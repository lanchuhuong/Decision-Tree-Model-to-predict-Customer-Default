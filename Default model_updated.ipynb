{
 "cells": [
  {
   "cell_type": "code",
   "execution_count": 150,
   "metadata": {},
   "outputs": [],
   "source": [
    "import pandas as pd\n",
    "import numpy as np\n",
    "from sklearn import preprocessing, metrics\n",
    "import matplotlib.pyplot as plt\n",
    "from sklearn import preprocessing\n",
    "from sklearn.model_selection import KFold\n",
    "pd.set_option('display.max_columns', 50)\n",
    "import re\n",
    "import timeit\n",
    "import random\n",
    "random.seed(3)\n",
    "\n",
    "import nltk\n",
    "# nltk.download('stopwords')\n",
    "# nltk.download('punkt')\n"
   ]
  },
  {
   "cell_type": "code",
   "execution_count": 151,
   "metadata": {},
   "outputs": [
    {
     "name": "stdout",
     "output_type": "stream",
     "text": [
      "17.37405299999955\n"
     ]
    }
   ],
   "source": [
    "start = timeit.default_timer()\n",
    "train = pd.read_csv('train_indessa.csv')\n",
    "test = pd.read_csv('test_indessa.csv')\n",
    "stop = timeit.default_timer()\n",
    "print(stop - start)"
   ]
  },
  {
   "cell_type": "code",
   "execution_count": 152,
   "metadata": {},
   "outputs": [],
   "source": [
    "target = train.loan_status.values\n",
    "train.drop('loan_status', axis = 1, inplace = True)"
   ]
  },
  {
   "cell_type": "code",
   "execution_count": 153,
   "metadata": {},
   "outputs": [],
   "source": [
    "size_train = train.shape[0]\n",
    "size_test = test.shape[0]\n",
    "full_df = train.append(test)"
   ]
  },
  {
   "cell_type": "code",
   "execution_count": 154,
   "metadata": {},
   "outputs": [],
   "source": [
    "n = full_df.isnull().sum(axis=1)\n",
    "full_df['nulls'] = n"
   ]
  },
  {
   "cell_type": "code",
   "execution_count": 155,
   "metadata": {},
   "outputs": [],
   "source": [
    "drop_cols = ['emp_title','mths_since_last_major_derog', 'batch_enrolled', 'member_id', 'mths_since_last_record']\n",
    "full_df.drop(drop_cols, axis = 1, inplace = True)"
   ]
  },
  {
   "cell_type": "markdown",
   "metadata": {},
   "source": [
    "#### Clean Title"
   ]
  },
  {
   "cell_type": "code",
   "execution_count": 156,
   "metadata": {},
   "outputs": [],
   "source": [
    "def clean_title(raw):\n",
    "    if ('debt' in raw) or ('consol' in raw) or ('lidation' in raw):\n",
    "        return 'debt consolidation'\n",
    "    elif ('credit' in raw) or ('card' in raw):\n",
    "        return 'credit card'\n",
    "    elif 'wedd' in raw or 'marr' in raw:\n",
    "        return 'wedding'\n",
    "    elif 'home' in raw or 'house' in raw or 'bath' in raw:\n",
    "        return 'home'\n",
    "    elif ('car' in raw) or ('motor' in raw) or ('truck' in raw) or ('auto') in raw:\n",
    "        return 'vehicle'\n",
    "    elif ('payoff' in raw) or ('off' in raw) :\n",
    "        return 'payoff'\n",
    "    elif 'freedom' in raw:\n",
    "        return 'freedom'\n",
    "    elif 'pool' in raw:\n",
    "        return 'pool'\n",
    "    elif 'persona' in raw :\n",
    "        return 'personal'\n",
    "    elif 'vacation' in raw:\n",
    "        return 'vacation'\n",
    "    elif 'hosp' in raw or 'med' in raw:\n",
    "        return 'medical'\n",
    "    elif 'loan' in raw:\n",
    "        return 'some loan'\n",
    "    elif 'movin' in raw:\n",
    "        return 'moving'\n",
    "    else :\n",
    "        return raw\n",
    "\n",
    "full_df['title'] = full_df.title.apply(lambda x : x.lower() if type(x) == str else '')\n",
    "full_df['title'] = full_df.title.apply(clean_title)"
   ]
  },
  {
   "cell_type": "code",
   "execution_count": 157,
   "metadata": {
    "scrolled": true
   },
   "outputs": [
    {
     "data": {
      "text/plain": [
       "36 months    621125\n",
       "60 months    266254\n",
       "Name: term, dtype: int64"
      ]
     },
     "execution_count": 157,
     "metadata": {},
     "output_type": "execute_result"
    }
   ],
   "source": [
    "full_df['term'].value_counts()"
   ]
  },
  {
   "cell_type": "code",
   "execution_count": 158,
   "metadata": {
    "scrolled": true
   },
   "outputs": [
    {
     "name": "stdout",
     "output_type": "stream",
     "text": [
      "9 years\n"
     ]
    }
   ],
   "source": [
    "col = full_df['emp_length']\n",
    "for element in col:\n",
    "    if type(element) is not float:\n",
    "        print(element)\n",
    "        break"
   ]
  },
  {
   "cell_type": "code",
   "execution_count": 159,
   "metadata": {},
   "outputs": [],
   "source": [
    "title_list = full_df.title.values\n",
    "\n",
    "from collections import Counter\n",
    "wordsDict = Counter(title_list)\n",
    "wordsDictSorted = wordsDict.most_common()\n",
    "wordsDictSorted = dict(wordsDictSorted)\n",
    "\n",
    "title_list = []\n",
    "for i in wordsDictSorted:\n",
    "    if wordsDictSorted[i] > 1:\n",
    "        title_list.append(i)\n",
    "    else :\n",
    "        break"
   ]
  },
  {
   "cell_type": "code",
   "execution_count": 160,
   "metadata": {},
   "outputs": [],
   "source": [
    "def final_title(raw):\n",
    "    if raw in title_list:\n",
    "        return raw\n",
    "    else :\n",
    "        return 'Other 2'\n",
    "full_df['title'] = full_df.title.apply(final_title)"
   ]
  },
  {
   "cell_type": "markdown",
   "metadata": {},
   "source": [
    "#### Helping functions to clean different columns"
   ]
  },
  {
   "cell_type": "code",
   "execution_count": 161,
   "metadata": {},
   "outputs": [],
   "source": [
    "def get_emp_length(raw):\n",
    "    if pd.isnull(raw):\n",
    "        return np.nan\n",
    "    if raw == 'n/a':\n",
    "        return np.nan\n",
    "    elif '+' in raw :\n",
    "        return 10\n",
    "    elif '<' in raw :\n",
    "        return 1\n",
    "    else :\n",
    "        return int(re.sub(\"\\D\", \"\", raw))\n",
    "    \n",
    "def get_last_week_pay(raw) :\n",
    "    try :\n",
    "        return int(re.sub(\"\\D\", \"\", raw))\n",
    "    except :\n",
    "        return -9999\n",
    "    \n",
    "from nltk.corpus import stopwords\n",
    "from nltk.tokenize import word_tokenize, sent_tokenize\n",
    "def clean_text(raw_text):\n",
    "    cleantext = np.nan\n",
    "    if type(raw_text) == str :\n",
    "        cleanr = re.compile('<.*?>')\n",
    "        cleantext = re.sub(cleanr, ' ', raw_text)\n",
    "        cleantext = cleantext.replace('>', '')\n",
    "        cleantext = ' '.join(cleantext.split())\n",
    "        \n",
    "        stop_words = set(stopwords.words(\"english\"))\n",
    "        words = word_tokenize(cleantext)\n",
    "        \n",
    "        filtered_sentence = []\n",
    "\n",
    "        for w in words:\n",
    "            if w not in stop_words:\n",
    "                filtered_sentence.append(w)\n",
    "        return len(filtered_sentence)\n",
    "    \n",
    "    else :\n",
    "        return 0 \n",
    "\n",
    "def verification_status_joint(raw):\n",
    "    if type(raw) == str:\n",
    "        return 1\n",
    "    else :\n",
    "        return -9999"
   ]
  },
  {
   "cell_type": "code",
   "execution_count": 162,
   "metadata": {},
   "outputs": [],
   "source": [
    "Term1 = [x[:-7] for x in train['term']]"
   ]
  },
  {
   "cell_type": "code",
   "execution_count": 163,
   "metadata": {},
   "outputs": [
    {
     "data": {
      "text/plain": [
       "36 months    372793\n",
       "60 months    159635\n",
       "Name: term, dtype: int64"
      ]
     },
     "execution_count": 163,
     "metadata": {},
     "output_type": "execute_result"
    }
   ],
   "source": [
    "train['term'].value_counts()"
   ]
  },
  {
   "cell_type": "code",
   "execution_count": 164,
   "metadata": {},
   "outputs": [],
   "source": [
    "train['term'] = Term1"
   ]
  },
  {
   "cell_type": "code",
   "execution_count": 165,
   "metadata": {},
   "outputs": [
    {
     "data": {
      "text/plain": [
       "MORTGAGE    265940\n",
       "RENT        213668\n",
       "OWN          52664\n",
       "OTHER          117\n",
       "NONE            36\n",
       "ANY              3\n",
       "Name: home_ownership, dtype: int64"
      ]
     },
     "execution_count": 165,
     "metadata": {},
     "output_type": "execute_result"
    }
   ],
   "source": [
    "train['home_ownership'].value_counts()"
   ]
  },
  {
   "cell_type": "code",
   "execution_count": 166,
   "metadata": {},
   "outputs": [
    {
     "data": {
      "text/html": [
       "<div>\n",
       "<style scoped>\n",
       "    .dataframe tbody tr th:only-of-type {\n",
       "        vertical-align: middle;\n",
       "    }\n",
       "\n",
       "    .dataframe tbody tr th {\n",
       "        vertical-align: top;\n",
       "    }\n",
       "\n",
       "    .dataframe thead th {\n",
       "        text-align: right;\n",
       "    }\n",
       "</style>\n",
       "<table border=\"1\" class=\"dataframe\">\n",
       "  <thead>\n",
       "    <tr style=\"text-align: right;\">\n",
       "      <th></th>\n",
       "      <th>member_id</th>\n",
       "      <th>loan_amnt</th>\n",
       "      <th>funded_amnt</th>\n",
       "      <th>funded_amnt_inv</th>\n",
       "      <th>term</th>\n",
       "      <th>batch_enrolled</th>\n",
       "      <th>int_rate</th>\n",
       "      <th>grade</th>\n",
       "      <th>sub_grade</th>\n",
       "      <th>emp_title</th>\n",
       "      <th>emp_length</th>\n",
       "      <th>home_ownership</th>\n",
       "      <th>annual_inc</th>\n",
       "      <th>verification_status</th>\n",
       "      <th>pymnt_plan</th>\n",
       "      <th>desc</th>\n",
       "      <th>purpose</th>\n",
       "      <th>title</th>\n",
       "      <th>zip_code</th>\n",
       "      <th>addr_state</th>\n",
       "      <th>dti</th>\n",
       "      <th>delinq_2yrs</th>\n",
       "      <th>inq_last_6mths</th>\n",
       "      <th>mths_since_last_delinq</th>\n",
       "      <th>mths_since_last_record</th>\n",
       "      <th>open_acc</th>\n",
       "      <th>pub_rec</th>\n",
       "      <th>revol_bal</th>\n",
       "      <th>revol_util</th>\n",
       "      <th>total_acc</th>\n",
       "      <th>initial_list_status</th>\n",
       "      <th>total_rec_int</th>\n",
       "      <th>total_rec_late_fee</th>\n",
       "      <th>recoveries</th>\n",
       "      <th>collection_recovery_fee</th>\n",
       "      <th>collections_12_mths_ex_med</th>\n",
       "      <th>mths_since_last_major_derog</th>\n",
       "      <th>application_type</th>\n",
       "      <th>verification_status_joint</th>\n",
       "      <th>last_week_pay</th>\n",
       "      <th>acc_now_delinq</th>\n",
       "      <th>tot_coll_amt</th>\n",
       "      <th>tot_cur_bal</th>\n",
       "      <th>total_rev_hi_lim</th>\n",
       "    </tr>\n",
       "  </thead>\n",
       "  <tbody>\n",
       "    <tr>\n",
       "      <th>0</th>\n",
       "      <td>58189336</td>\n",
       "      <td>14350</td>\n",
       "      <td>14350</td>\n",
       "      <td>14350.0</td>\n",
       "      <td>36</td>\n",
       "      <td></td>\n",
       "      <td>19.19</td>\n",
       "      <td>E</td>\n",
       "      <td>E3</td>\n",
       "      <td>clerk</td>\n",
       "      <td>9 years</td>\n",
       "      <td>4</td>\n",
       "      <td>28700.0</td>\n",
       "      <td>Source Verified</td>\n",
       "      <td>n</td>\n",
       "      <td>NaN</td>\n",
       "      <td>debt_consolidation</td>\n",
       "      <td>Debt consolidation</td>\n",
       "      <td>349xx</td>\n",
       "      <td>FL</td>\n",
       "      <td>33.88</td>\n",
       "      <td>0.0</td>\n",
       "      <td>1.0</td>\n",
       "      <td>50.0</td>\n",
       "      <td>75.0</td>\n",
       "      <td>14.0</td>\n",
       "      <td>1.0</td>\n",
       "      <td>22515.0</td>\n",
       "      <td>73.1</td>\n",
       "      <td>28.0</td>\n",
       "      <td>f</td>\n",
       "      <td>1173.84</td>\n",
       "      <td>0.0</td>\n",
       "      <td>0.0</td>\n",
       "      <td>0.0</td>\n",
       "      <td>0.0</td>\n",
       "      <td>74.0</td>\n",
       "      <td>INDIVIDUAL</td>\n",
       "      <td>NaN</td>\n",
       "      <td>26th week</td>\n",
       "      <td>0.0</td>\n",
       "      <td>0.0</td>\n",
       "      <td>28699.0</td>\n",
       "      <td>30800.0</td>\n",
       "    </tr>\n",
       "    <tr>\n",
       "      <th>1</th>\n",
       "      <td>70011223</td>\n",
       "      <td>4800</td>\n",
       "      <td>4800</td>\n",
       "      <td>4800.0</td>\n",
       "      <td>36</td>\n",
       "      <td>BAT1586599</td>\n",
       "      <td>10.99</td>\n",
       "      <td>B</td>\n",
       "      <td>B4</td>\n",
       "      <td>Human Resources Specialist</td>\n",
       "      <td>&lt; 1 year</td>\n",
       "      <td>3</td>\n",
       "      <td>65000.0</td>\n",
       "      <td>Source Verified</td>\n",
       "      <td>n</td>\n",
       "      <td>NaN</td>\n",
       "      <td>home_improvement</td>\n",
       "      <td>Home improvement</td>\n",
       "      <td>209xx</td>\n",
       "      <td>MD</td>\n",
       "      <td>3.64</td>\n",
       "      <td>0.0</td>\n",
       "      <td>1.0</td>\n",
       "      <td>NaN</td>\n",
       "      <td>NaN</td>\n",
       "      <td>6.0</td>\n",
       "      <td>0.0</td>\n",
       "      <td>7624.0</td>\n",
       "      <td>23.2</td>\n",
       "      <td>13.0</td>\n",
       "      <td>w</td>\n",
       "      <td>83.95</td>\n",
       "      <td>0.0</td>\n",
       "      <td>0.0</td>\n",
       "      <td>0.0</td>\n",
       "      <td>0.0</td>\n",
       "      <td>NaN</td>\n",
       "      <td>INDIVIDUAL</td>\n",
       "      <td>NaN</td>\n",
       "      <td>9th week</td>\n",
       "      <td>0.0</td>\n",
       "      <td>0.0</td>\n",
       "      <td>9974.0</td>\n",
       "      <td>32900.0</td>\n",
       "    </tr>\n",
       "    <tr>\n",
       "      <th>2</th>\n",
       "      <td>70255675</td>\n",
       "      <td>10000</td>\n",
       "      <td>10000</td>\n",
       "      <td>10000.0</td>\n",
       "      <td>36</td>\n",
       "      <td>BAT1586599</td>\n",
       "      <td>7.26</td>\n",
       "      <td>A</td>\n",
       "      <td>A4</td>\n",
       "      <td>Driver</td>\n",
       "      <td>2 years</td>\n",
       "      <td>4</td>\n",
       "      <td>45000.0</td>\n",
       "      <td>Not Verified</td>\n",
       "      <td>n</td>\n",
       "      <td>NaN</td>\n",
       "      <td>debt_consolidation</td>\n",
       "      <td>Debt consolidation</td>\n",
       "      <td>447xx</td>\n",
       "      <td>OH</td>\n",
       "      <td>18.42</td>\n",
       "      <td>0.0</td>\n",
       "      <td>0.0</td>\n",
       "      <td>NaN</td>\n",
       "      <td>NaN</td>\n",
       "      <td>5.0</td>\n",
       "      <td>0.0</td>\n",
       "      <td>10877.0</td>\n",
       "      <td>31.2</td>\n",
       "      <td>19.0</td>\n",
       "      <td>w</td>\n",
       "      <td>56.47</td>\n",
       "      <td>0.0</td>\n",
       "      <td>0.0</td>\n",
       "      <td>0.0</td>\n",
       "      <td>0.0</td>\n",
       "      <td>NaN</td>\n",
       "      <td>INDIVIDUAL</td>\n",
       "      <td>NaN</td>\n",
       "      <td>9th week</td>\n",
       "      <td>0.0</td>\n",
       "      <td>65.0</td>\n",
       "      <td>38295.0</td>\n",
       "      <td>34900.0</td>\n",
       "    </tr>\n",
       "    <tr>\n",
       "      <th>3</th>\n",
       "      <td>1893936</td>\n",
       "      <td>15000</td>\n",
       "      <td>15000</td>\n",
       "      <td>15000.0</td>\n",
       "      <td>36</td>\n",
       "      <td>BAT4808022</td>\n",
       "      <td>19.72</td>\n",
       "      <td>D</td>\n",
       "      <td>D5</td>\n",
       "      <td>Us office of Personnel Management</td>\n",
       "      <td>10+ years</td>\n",
       "      <td>2</td>\n",
       "      <td>105000.0</td>\n",
       "      <td>Not Verified</td>\n",
       "      <td>n</td>\n",
       "      <td>&gt; My goal is to obtain a loan to pay off my hi...</td>\n",
       "      <td>debt_consolidation</td>\n",
       "      <td>Debt consolidation</td>\n",
       "      <td>221xx</td>\n",
       "      <td>VA</td>\n",
       "      <td>14.97</td>\n",
       "      <td>0.0</td>\n",
       "      <td>2.0</td>\n",
       "      <td>46.0</td>\n",
       "      <td>NaN</td>\n",
       "      <td>10.0</td>\n",
       "      <td>0.0</td>\n",
       "      <td>13712.0</td>\n",
       "      <td>55.5</td>\n",
       "      <td>21.0</td>\n",
       "      <td>f</td>\n",
       "      <td>4858.62</td>\n",
       "      <td>0.0</td>\n",
       "      <td>0.0</td>\n",
       "      <td>0.0</td>\n",
       "      <td>0.0</td>\n",
       "      <td>NaN</td>\n",
       "      <td>INDIVIDUAL</td>\n",
       "      <td>NaN</td>\n",
       "      <td>135th week</td>\n",
       "      <td>0.0</td>\n",
       "      <td>0.0</td>\n",
       "      <td>55564.0</td>\n",
       "      <td>24700.0</td>\n",
       "    </tr>\n",
       "    <tr>\n",
       "      <th>4</th>\n",
       "      <td>7652106</td>\n",
       "      <td>16000</td>\n",
       "      <td>16000</td>\n",
       "      <td>16000.0</td>\n",
       "      <td>36</td>\n",
       "      <td>BAT2833642</td>\n",
       "      <td>10.64</td>\n",
       "      <td>B</td>\n",
       "      <td>B2</td>\n",
       "      <td>LAUSD-HOLLYWOOD HIGH SCHOOL</td>\n",
       "      <td>10+ years</td>\n",
       "      <td>2</td>\n",
       "      <td>52000.0</td>\n",
       "      <td>Verified</td>\n",
       "      <td>n</td>\n",
       "      <td>NaN</td>\n",
       "      <td>credit_card</td>\n",
       "      <td>refi</td>\n",
       "      <td>900xx</td>\n",
       "      <td>CA</td>\n",
       "      <td>20.16</td>\n",
       "      <td>0.0</td>\n",
       "      <td>0.0</td>\n",
       "      <td>NaN</td>\n",
       "      <td>NaN</td>\n",
       "      <td>11.0</td>\n",
       "      <td>0.0</td>\n",
       "      <td>35835.0</td>\n",
       "      <td>76.2</td>\n",
       "      <td>27.0</td>\n",
       "      <td>w</td>\n",
       "      <td>2296.41</td>\n",
       "      <td>0.0</td>\n",
       "      <td>0.0</td>\n",
       "      <td>0.0</td>\n",
       "      <td>0.0</td>\n",
       "      <td>NaN</td>\n",
       "      <td>INDIVIDUAL</td>\n",
       "      <td>NaN</td>\n",
       "      <td>96th week</td>\n",
       "      <td>0.0</td>\n",
       "      <td>0.0</td>\n",
       "      <td>47159.0</td>\n",
       "      <td>47033.0</td>\n",
       "    </tr>\n",
       "  </tbody>\n",
       "</table>\n",
       "</div>"
      ],
      "text/plain": [
       "   member_id  loan_amnt  funded_amnt  funded_amnt_inv term batch_enrolled  \\\n",
       "0   58189336      14350        14350          14350.0   36                  \n",
       "1   70011223       4800         4800           4800.0   36     BAT1586599   \n",
       "2   70255675      10000        10000          10000.0   36     BAT1586599   \n",
       "3    1893936      15000        15000          15000.0   36     BAT4808022   \n",
       "4    7652106      16000        16000          16000.0   36     BAT2833642   \n",
       "\n",
       "   int_rate grade sub_grade                          emp_title emp_length  \\\n",
       "0     19.19     E        E3                              clerk    9 years   \n",
       "1     10.99     B        B4         Human Resources Specialist   < 1 year   \n",
       "2      7.26     A        A4                             Driver    2 years   \n",
       "3     19.72     D        D5  Us office of Personnel Management  10+ years   \n",
       "4     10.64     B        B2        LAUSD-HOLLYWOOD HIGH SCHOOL  10+ years   \n",
       "\n",
       "   home_ownership  annual_inc verification_status pymnt_plan  \\\n",
       "0               4     28700.0     Source Verified          n   \n",
       "1               3     65000.0     Source Verified          n   \n",
       "2               4     45000.0        Not Verified          n   \n",
       "3               2    105000.0        Not Verified          n   \n",
       "4               2     52000.0            Verified          n   \n",
       "\n",
       "                                                desc             purpose  \\\n",
       "0                                                NaN  debt_consolidation   \n",
       "1                                                NaN    home_improvement   \n",
       "2                                                NaN  debt_consolidation   \n",
       "3  > My goal is to obtain a loan to pay off my hi...  debt_consolidation   \n",
       "4                                                NaN         credit_card   \n",
       "\n",
       "                title zip_code addr_state    dti  delinq_2yrs  inq_last_6mths  \\\n",
       "0  Debt consolidation    349xx         FL  33.88          0.0             1.0   \n",
       "1    Home improvement    209xx         MD   3.64          0.0             1.0   \n",
       "2  Debt consolidation    447xx         OH  18.42          0.0             0.0   \n",
       "3  Debt consolidation    221xx         VA  14.97          0.0             2.0   \n",
       "4                refi    900xx         CA  20.16          0.0             0.0   \n",
       "\n",
       "   mths_since_last_delinq  mths_since_last_record  open_acc  pub_rec  \\\n",
       "0                    50.0                    75.0      14.0      1.0   \n",
       "1                     NaN                     NaN       6.0      0.0   \n",
       "2                     NaN                     NaN       5.0      0.0   \n",
       "3                    46.0                     NaN      10.0      0.0   \n",
       "4                     NaN                     NaN      11.0      0.0   \n",
       "\n",
       "   revol_bal  revol_util  total_acc initial_list_status  total_rec_int  \\\n",
       "0    22515.0        73.1       28.0                   f        1173.84   \n",
       "1     7624.0        23.2       13.0                   w          83.95   \n",
       "2    10877.0        31.2       19.0                   w          56.47   \n",
       "3    13712.0        55.5       21.0                   f        4858.62   \n",
       "4    35835.0        76.2       27.0                   w        2296.41   \n",
       "\n",
       "   total_rec_late_fee  recoveries  collection_recovery_fee  \\\n",
       "0                 0.0         0.0                      0.0   \n",
       "1                 0.0         0.0                      0.0   \n",
       "2                 0.0         0.0                      0.0   \n",
       "3                 0.0         0.0                      0.0   \n",
       "4                 0.0         0.0                      0.0   \n",
       "\n",
       "   collections_12_mths_ex_med  mths_since_last_major_derog application_type  \\\n",
       "0                         0.0                         74.0       INDIVIDUAL   \n",
       "1                         0.0                          NaN       INDIVIDUAL   \n",
       "2                         0.0                          NaN       INDIVIDUAL   \n",
       "3                         0.0                          NaN       INDIVIDUAL   \n",
       "4                         0.0                          NaN       INDIVIDUAL   \n",
       "\n",
       "  verification_status_joint last_week_pay  acc_now_delinq  tot_coll_amt  \\\n",
       "0                       NaN     26th week             0.0           0.0   \n",
       "1                       NaN      9th week             0.0           0.0   \n",
       "2                       NaN      9th week             0.0          65.0   \n",
       "3                       NaN    135th week             0.0           0.0   \n",
       "4                       NaN     96th week             0.0           0.0   \n",
       "\n",
       "   tot_cur_bal  total_rev_hi_lim  \n",
       "0      28699.0           30800.0  \n",
       "1       9974.0           32900.0  \n",
       "2      38295.0           34900.0  \n",
       "3      55564.0           24700.0  \n",
       "4      47159.0           47033.0  "
      ]
     },
     "execution_count": 166,
     "metadata": {},
     "output_type": "execute_result"
    }
   ],
   "source": [
    "cleanup_ownership = {'home_ownership' :{'OWN': 4, 'MORTGAGE': 3, 'RENT' :2, 'OTHER':1, 'NONE':0, 'ANY': 3}}\n",
    "train.replace(cleanup_ownership, inplace=True)\n",
    "train.head()"
   ]
  },
  {
   "cell_type": "code",
   "execution_count": 167,
   "metadata": {},
   "outputs": [
    {
     "data": {
      "text/html": [
       "<div>\n",
       "<style scoped>\n",
       "    .dataframe tbody tr th:only-of-type {\n",
       "        vertical-align: middle;\n",
       "    }\n",
       "\n",
       "    .dataframe tbody tr th {\n",
       "        vertical-align: top;\n",
       "    }\n",
       "\n",
       "    .dataframe thead th {\n",
       "        text-align: right;\n",
       "    }\n",
       "</style>\n",
       "<table border=\"1\" class=\"dataframe\">\n",
       "  <thead>\n",
       "    <tr style=\"text-align: right;\">\n",
       "      <th></th>\n",
       "      <th>member_id</th>\n",
       "      <th>loan_amnt</th>\n",
       "      <th>funded_amnt</th>\n",
       "      <th>funded_amnt_inv</th>\n",
       "      <th>term</th>\n",
       "      <th>batch_enrolled</th>\n",
       "      <th>int_rate</th>\n",
       "      <th>grade</th>\n",
       "      <th>sub_grade</th>\n",
       "      <th>emp_title</th>\n",
       "      <th>emp_length</th>\n",
       "      <th>home_ownership</th>\n",
       "      <th>annual_inc</th>\n",
       "      <th>verification_status</th>\n",
       "      <th>pymnt_plan</th>\n",
       "      <th>desc</th>\n",
       "      <th>purpose</th>\n",
       "      <th>title</th>\n",
       "      <th>zip_code</th>\n",
       "      <th>addr_state</th>\n",
       "      <th>dti</th>\n",
       "      <th>delinq_2yrs</th>\n",
       "      <th>inq_last_6mths</th>\n",
       "      <th>mths_since_last_delinq</th>\n",
       "      <th>mths_since_last_record</th>\n",
       "      <th>open_acc</th>\n",
       "      <th>pub_rec</th>\n",
       "      <th>revol_bal</th>\n",
       "      <th>revol_util</th>\n",
       "      <th>total_acc</th>\n",
       "      <th>initial_list_status</th>\n",
       "      <th>total_rec_int</th>\n",
       "      <th>total_rec_late_fee</th>\n",
       "      <th>recoveries</th>\n",
       "      <th>collection_recovery_fee</th>\n",
       "      <th>collections_12_mths_ex_med</th>\n",
       "      <th>mths_since_last_major_derog</th>\n",
       "      <th>application_type</th>\n",
       "      <th>verification_status_joint</th>\n",
       "      <th>last_week_pay</th>\n",
       "      <th>acc_now_delinq</th>\n",
       "      <th>tot_coll_amt</th>\n",
       "      <th>tot_cur_bal</th>\n",
       "      <th>total_rev_hi_lim</th>\n",
       "    </tr>\n",
       "  </thead>\n",
       "  <tbody>\n",
       "    <tr>\n",
       "      <th>0</th>\n",
       "      <td>58189336</td>\n",
       "      <td>14350</td>\n",
       "      <td>14350</td>\n",
       "      <td>14350.0</td>\n",
       "      <td>36</td>\n",
       "      <td></td>\n",
       "      <td>19.19</td>\n",
       "      <td>0</td>\n",
       "      <td>E3</td>\n",
       "      <td>clerk</td>\n",
       "      <td>9 years</td>\n",
       "      <td>4</td>\n",
       "      <td>28700.0</td>\n",
       "      <td>Source Verified</td>\n",
       "      <td>n</td>\n",
       "      <td>NaN</td>\n",
       "      <td>debt_consolidation</td>\n",
       "      <td>Debt consolidation</td>\n",
       "      <td>349xx</td>\n",
       "      <td>FL</td>\n",
       "      <td>33.88</td>\n",
       "      <td>0.0</td>\n",
       "      <td>1.0</td>\n",
       "      <td>50.0</td>\n",
       "      <td>75.0</td>\n",
       "      <td>14.0</td>\n",
       "      <td>1.0</td>\n",
       "      <td>22515.0</td>\n",
       "      <td>73.1</td>\n",
       "      <td>28.0</td>\n",
       "      <td>f</td>\n",
       "      <td>1173.84</td>\n",
       "      <td>0.0</td>\n",
       "      <td>0.0</td>\n",
       "      <td>0.0</td>\n",
       "      <td>0.0</td>\n",
       "      <td>74.0</td>\n",
       "      <td>INDIVIDUAL</td>\n",
       "      <td>NaN</td>\n",
       "      <td>26th week</td>\n",
       "      <td>0.0</td>\n",
       "      <td>0.0</td>\n",
       "      <td>28699.0</td>\n",
       "      <td>30800.0</td>\n",
       "    </tr>\n",
       "    <tr>\n",
       "      <th>1</th>\n",
       "      <td>70011223</td>\n",
       "      <td>4800</td>\n",
       "      <td>4800</td>\n",
       "      <td>4800.0</td>\n",
       "      <td>36</td>\n",
       "      <td>BAT1586599</td>\n",
       "      <td>10.99</td>\n",
       "      <td>3</td>\n",
       "      <td>B4</td>\n",
       "      <td>Human Resources Specialist</td>\n",
       "      <td>&lt; 1 year</td>\n",
       "      <td>3</td>\n",
       "      <td>65000.0</td>\n",
       "      <td>Source Verified</td>\n",
       "      <td>n</td>\n",
       "      <td>NaN</td>\n",
       "      <td>home_improvement</td>\n",
       "      <td>Home improvement</td>\n",
       "      <td>209xx</td>\n",
       "      <td>MD</td>\n",
       "      <td>3.64</td>\n",
       "      <td>0.0</td>\n",
       "      <td>1.0</td>\n",
       "      <td>NaN</td>\n",
       "      <td>NaN</td>\n",
       "      <td>6.0</td>\n",
       "      <td>0.0</td>\n",
       "      <td>7624.0</td>\n",
       "      <td>23.2</td>\n",
       "      <td>13.0</td>\n",
       "      <td>w</td>\n",
       "      <td>83.95</td>\n",
       "      <td>0.0</td>\n",
       "      <td>0.0</td>\n",
       "      <td>0.0</td>\n",
       "      <td>0.0</td>\n",
       "      <td>NaN</td>\n",
       "      <td>INDIVIDUAL</td>\n",
       "      <td>NaN</td>\n",
       "      <td>9th week</td>\n",
       "      <td>0.0</td>\n",
       "      <td>0.0</td>\n",
       "      <td>9974.0</td>\n",
       "      <td>32900.0</td>\n",
       "    </tr>\n",
       "    <tr>\n",
       "      <th>2</th>\n",
       "      <td>70255675</td>\n",
       "      <td>10000</td>\n",
       "      <td>10000</td>\n",
       "      <td>10000.0</td>\n",
       "      <td>36</td>\n",
       "      <td>BAT1586599</td>\n",
       "      <td>7.26</td>\n",
       "      <td>4</td>\n",
       "      <td>A4</td>\n",
       "      <td>Driver</td>\n",
       "      <td>2 years</td>\n",
       "      <td>4</td>\n",
       "      <td>45000.0</td>\n",
       "      <td>Not Verified</td>\n",
       "      <td>n</td>\n",
       "      <td>NaN</td>\n",
       "      <td>debt_consolidation</td>\n",
       "      <td>Debt consolidation</td>\n",
       "      <td>447xx</td>\n",
       "      <td>OH</td>\n",
       "      <td>18.42</td>\n",
       "      <td>0.0</td>\n",
       "      <td>0.0</td>\n",
       "      <td>NaN</td>\n",
       "      <td>NaN</td>\n",
       "      <td>5.0</td>\n",
       "      <td>0.0</td>\n",
       "      <td>10877.0</td>\n",
       "      <td>31.2</td>\n",
       "      <td>19.0</td>\n",
       "      <td>w</td>\n",
       "      <td>56.47</td>\n",
       "      <td>0.0</td>\n",
       "      <td>0.0</td>\n",
       "      <td>0.0</td>\n",
       "      <td>0.0</td>\n",
       "      <td>NaN</td>\n",
       "      <td>INDIVIDUAL</td>\n",
       "      <td>NaN</td>\n",
       "      <td>9th week</td>\n",
       "      <td>0.0</td>\n",
       "      <td>65.0</td>\n",
       "      <td>38295.0</td>\n",
       "      <td>34900.0</td>\n",
       "    </tr>\n",
       "    <tr>\n",
       "      <th>3</th>\n",
       "      <td>1893936</td>\n",
       "      <td>15000</td>\n",
       "      <td>15000</td>\n",
       "      <td>15000.0</td>\n",
       "      <td>36</td>\n",
       "      <td>BAT4808022</td>\n",
       "      <td>19.72</td>\n",
       "      <td>1</td>\n",
       "      <td>D5</td>\n",
       "      <td>Us office of Personnel Management</td>\n",
       "      <td>10+ years</td>\n",
       "      <td>2</td>\n",
       "      <td>105000.0</td>\n",
       "      <td>Not Verified</td>\n",
       "      <td>n</td>\n",
       "      <td>&gt; My goal is to obtain a loan to pay off my hi...</td>\n",
       "      <td>debt_consolidation</td>\n",
       "      <td>Debt consolidation</td>\n",
       "      <td>221xx</td>\n",
       "      <td>VA</td>\n",
       "      <td>14.97</td>\n",
       "      <td>0.0</td>\n",
       "      <td>2.0</td>\n",
       "      <td>46.0</td>\n",
       "      <td>NaN</td>\n",
       "      <td>10.0</td>\n",
       "      <td>0.0</td>\n",
       "      <td>13712.0</td>\n",
       "      <td>55.5</td>\n",
       "      <td>21.0</td>\n",
       "      <td>f</td>\n",
       "      <td>4858.62</td>\n",
       "      <td>0.0</td>\n",
       "      <td>0.0</td>\n",
       "      <td>0.0</td>\n",
       "      <td>0.0</td>\n",
       "      <td>NaN</td>\n",
       "      <td>INDIVIDUAL</td>\n",
       "      <td>NaN</td>\n",
       "      <td>135th week</td>\n",
       "      <td>0.0</td>\n",
       "      <td>0.0</td>\n",
       "      <td>55564.0</td>\n",
       "      <td>24700.0</td>\n",
       "    </tr>\n",
       "    <tr>\n",
       "      <th>4</th>\n",
       "      <td>7652106</td>\n",
       "      <td>16000</td>\n",
       "      <td>16000</td>\n",
       "      <td>16000.0</td>\n",
       "      <td>36</td>\n",
       "      <td>BAT2833642</td>\n",
       "      <td>10.64</td>\n",
       "      <td>3</td>\n",
       "      <td>B2</td>\n",
       "      <td>LAUSD-HOLLYWOOD HIGH SCHOOL</td>\n",
       "      <td>10+ years</td>\n",
       "      <td>2</td>\n",
       "      <td>52000.0</td>\n",
       "      <td>Verified</td>\n",
       "      <td>n</td>\n",
       "      <td>NaN</td>\n",
       "      <td>credit_card</td>\n",
       "      <td>refi</td>\n",
       "      <td>900xx</td>\n",
       "      <td>CA</td>\n",
       "      <td>20.16</td>\n",
       "      <td>0.0</td>\n",
       "      <td>0.0</td>\n",
       "      <td>NaN</td>\n",
       "      <td>NaN</td>\n",
       "      <td>11.0</td>\n",
       "      <td>0.0</td>\n",
       "      <td>35835.0</td>\n",
       "      <td>76.2</td>\n",
       "      <td>27.0</td>\n",
       "      <td>w</td>\n",
       "      <td>2296.41</td>\n",
       "      <td>0.0</td>\n",
       "      <td>0.0</td>\n",
       "      <td>0.0</td>\n",
       "      <td>0.0</td>\n",
       "      <td>NaN</td>\n",
       "      <td>INDIVIDUAL</td>\n",
       "      <td>NaN</td>\n",
       "      <td>96th week</td>\n",
       "      <td>0.0</td>\n",
       "      <td>0.0</td>\n",
       "      <td>47159.0</td>\n",
       "      <td>47033.0</td>\n",
       "    </tr>\n",
       "  </tbody>\n",
       "</table>\n",
       "</div>"
      ],
      "text/plain": [
       "   member_id  loan_amnt  funded_amnt  funded_amnt_inv term batch_enrolled  \\\n",
       "0   58189336      14350        14350          14350.0   36                  \n",
       "1   70011223       4800         4800           4800.0   36     BAT1586599   \n",
       "2   70255675      10000        10000          10000.0   36     BAT1586599   \n",
       "3    1893936      15000        15000          15000.0   36     BAT4808022   \n",
       "4    7652106      16000        16000          16000.0   36     BAT2833642   \n",
       "\n",
       "   int_rate grade sub_grade                          emp_title emp_length  \\\n",
       "0     19.19     0        E3                              clerk    9 years   \n",
       "1     10.99     3        B4         Human Resources Specialist   < 1 year   \n",
       "2      7.26     4        A4                             Driver    2 years   \n",
       "3     19.72     1        D5  Us office of Personnel Management  10+ years   \n",
       "4     10.64     3        B2        LAUSD-HOLLYWOOD HIGH SCHOOL  10+ years   \n",
       "\n",
       "   home_ownership  annual_inc verification_status pymnt_plan  \\\n",
       "0               4     28700.0     Source Verified          n   \n",
       "1               3     65000.0     Source Verified          n   \n",
       "2               4     45000.0        Not Verified          n   \n",
       "3               2    105000.0        Not Verified          n   \n",
       "4               2     52000.0            Verified          n   \n",
       "\n",
       "                                                desc             purpose  \\\n",
       "0                                                NaN  debt_consolidation   \n",
       "1                                                NaN    home_improvement   \n",
       "2                                                NaN  debt_consolidation   \n",
       "3  > My goal is to obtain a loan to pay off my hi...  debt_consolidation   \n",
       "4                                                NaN         credit_card   \n",
       "\n",
       "                title zip_code addr_state    dti  delinq_2yrs  inq_last_6mths  \\\n",
       "0  Debt consolidation    349xx         FL  33.88          0.0             1.0   \n",
       "1    Home improvement    209xx         MD   3.64          0.0             1.0   \n",
       "2  Debt consolidation    447xx         OH  18.42          0.0             0.0   \n",
       "3  Debt consolidation    221xx         VA  14.97          0.0             2.0   \n",
       "4                refi    900xx         CA  20.16          0.0             0.0   \n",
       "\n",
       "   mths_since_last_delinq  mths_since_last_record  open_acc  pub_rec  \\\n",
       "0                    50.0                    75.0      14.0      1.0   \n",
       "1                     NaN                     NaN       6.0      0.0   \n",
       "2                     NaN                     NaN       5.0      0.0   \n",
       "3                    46.0                     NaN      10.0      0.0   \n",
       "4                     NaN                     NaN      11.0      0.0   \n",
       "\n",
       "   revol_bal  revol_util  total_acc initial_list_status  total_rec_int  \\\n",
       "0    22515.0        73.1       28.0                   f        1173.84   \n",
       "1     7624.0        23.2       13.0                   w          83.95   \n",
       "2    10877.0        31.2       19.0                   w          56.47   \n",
       "3    13712.0        55.5       21.0                   f        4858.62   \n",
       "4    35835.0        76.2       27.0                   w        2296.41   \n",
       "\n",
       "   total_rec_late_fee  recoveries  collection_recovery_fee  \\\n",
       "0                 0.0         0.0                      0.0   \n",
       "1                 0.0         0.0                      0.0   \n",
       "2                 0.0         0.0                      0.0   \n",
       "3                 0.0         0.0                      0.0   \n",
       "4                 0.0         0.0                      0.0   \n",
       "\n",
       "   collections_12_mths_ex_med  mths_since_last_major_derog application_type  \\\n",
       "0                         0.0                         74.0       INDIVIDUAL   \n",
       "1                         0.0                          NaN       INDIVIDUAL   \n",
       "2                         0.0                          NaN       INDIVIDUAL   \n",
       "3                         0.0                          NaN       INDIVIDUAL   \n",
       "4                         0.0                          NaN       INDIVIDUAL   \n",
       "\n",
       "  verification_status_joint last_week_pay  acc_now_delinq  tot_coll_amt  \\\n",
       "0                       NaN     26th week             0.0           0.0   \n",
       "1                       NaN      9th week             0.0           0.0   \n",
       "2                       NaN      9th week             0.0          65.0   \n",
       "3                       NaN    135th week             0.0           0.0   \n",
       "4                       NaN     96th week             0.0           0.0   \n",
       "\n",
       "   tot_cur_bal  total_rev_hi_lim  \n",
       "0      28699.0           30800.0  \n",
       "1       9974.0           32900.0  \n",
       "2      38295.0           34900.0  \n",
       "3      55564.0           24700.0  \n",
       "4      47159.0           47033.0  "
      ]
     },
     "execution_count": 167,
     "metadata": {},
     "output_type": "execute_result"
    }
   ],
   "source": [
    "cleanup_grade = {'grade' :{'A': 4, 'B': 3, 'C' :2, 'D':1, 'E':0}}\n",
    "train.replace(cleanup_grade, inplace=True)\n",
    "train.head()"
   ]
  },
  {
   "cell_type": "code",
   "execution_count": 168,
   "metadata": {},
   "outputs": [
    {
     "data": {
      "text/html": [
       "<div>\n",
       "<style scoped>\n",
       "    .dataframe tbody tr th:only-of-type {\n",
       "        vertical-align: middle;\n",
       "    }\n",
       "\n",
       "    .dataframe tbody tr th {\n",
       "        vertical-align: top;\n",
       "    }\n",
       "\n",
       "    .dataframe thead th {\n",
       "        text-align: right;\n",
       "    }\n",
       "</style>\n",
       "<table border=\"1\" class=\"dataframe\">\n",
       "  <thead>\n",
       "    <tr style=\"text-align: right;\">\n",
       "      <th></th>\n",
       "      <th>member_id</th>\n",
       "      <th>loan_amnt</th>\n",
       "      <th>funded_amnt</th>\n",
       "      <th>funded_amnt_inv</th>\n",
       "      <th>int_rate</th>\n",
       "      <th>home_ownership</th>\n",
       "      <th>annual_inc</th>\n",
       "      <th>dti</th>\n",
       "      <th>delinq_2yrs</th>\n",
       "      <th>inq_last_6mths</th>\n",
       "      <th>mths_since_last_delinq</th>\n",
       "      <th>mths_since_last_record</th>\n",
       "      <th>open_acc</th>\n",
       "      <th>pub_rec</th>\n",
       "      <th>revol_bal</th>\n",
       "      <th>revol_util</th>\n",
       "      <th>total_acc</th>\n",
       "      <th>total_rec_int</th>\n",
       "      <th>total_rec_late_fee</th>\n",
       "      <th>recoveries</th>\n",
       "      <th>collection_recovery_fee</th>\n",
       "      <th>collections_12_mths_ex_med</th>\n",
       "      <th>mths_since_last_major_derog</th>\n",
       "      <th>acc_now_delinq</th>\n",
       "      <th>tot_coll_amt</th>\n",
       "      <th>tot_cur_bal</th>\n",
       "      <th>total_rev_hi_lim</th>\n",
       "    </tr>\n",
       "  </thead>\n",
       "  <tbody>\n",
       "    <tr>\n",
       "      <th>count</th>\n",
       "      <td>5.324280e+05</td>\n",
       "      <td>532428.000000</td>\n",
       "      <td>532428.000000</td>\n",
       "      <td>532428.000000</td>\n",
       "      <td>532428.000000</td>\n",
       "      <td>532428.000000</td>\n",
       "      <td>5.324250e+05</td>\n",
       "      <td>532428.000000</td>\n",
       "      <td>532412.000000</td>\n",
       "      <td>532412.000000</td>\n",
       "      <td>259874.000000</td>\n",
       "      <td>82123.000000</td>\n",
       "      <td>532412.000000</td>\n",
       "      <td>532412.000000</td>\n",
       "      <td>5.324280e+05</td>\n",
       "      <td>532141.000000</td>\n",
       "      <td>532412.000000</td>\n",
       "      <td>532428.000000</td>\n",
       "      <td>532428.000000</td>\n",
       "      <td>532428.000000</td>\n",
       "      <td>532428.000000</td>\n",
       "      <td>532333.000000</td>\n",
       "      <td>132980.000000</td>\n",
       "      <td>532412.000000</td>\n",
       "      <td>490424.000000</td>\n",
       "      <td>4.904240e+05</td>\n",
       "      <td>4.904240e+05</td>\n",
       "    </tr>\n",
       "    <tr>\n",
       "      <th>mean</th>\n",
       "      <td>3.500547e+07</td>\n",
       "      <td>14757.595722</td>\n",
       "      <td>14744.271291</td>\n",
       "      <td>14704.926696</td>\n",
       "      <td>13.242969</td>\n",
       "      <td>2.696962</td>\n",
       "      <td>7.502984e+04</td>\n",
       "      <td>18.138767</td>\n",
       "      <td>0.314448</td>\n",
       "      <td>0.694603</td>\n",
       "      <td>34.055735</td>\n",
       "      <td>70.093068</td>\n",
       "      <td>11.545594</td>\n",
       "      <td>0.194858</td>\n",
       "      <td>1.692128e+04</td>\n",
       "      <td>55.057189</td>\n",
       "      <td>25.267357</td>\n",
       "      <td>1753.428788</td>\n",
       "      <td>0.394954</td>\n",
       "      <td>45.717832</td>\n",
       "      <td>4.859221</td>\n",
       "      <td>0.014299</td>\n",
       "      <td>44.121462</td>\n",
       "      <td>0.005015</td>\n",
       "      <td>213.562222</td>\n",
       "      <td>1.395541e+05</td>\n",
       "      <td>3.208057e+04</td>\n",
       "    </tr>\n",
       "    <tr>\n",
       "      <th>std</th>\n",
       "      <td>2.412148e+07</td>\n",
       "      <td>8434.420080</td>\n",
       "      <td>8429.139277</td>\n",
       "      <td>8441.290381</td>\n",
       "      <td>4.379611</td>\n",
       "      <td>0.640217</td>\n",
       "      <td>6.519985e+04</td>\n",
       "      <td>8.369074</td>\n",
       "      <td>0.860045</td>\n",
       "      <td>0.997025</td>\n",
       "      <td>21.884797</td>\n",
       "      <td>28.139219</td>\n",
       "      <td>5.311442</td>\n",
       "      <td>0.583822</td>\n",
       "      <td>2.242322e+04</td>\n",
       "      <td>23.853436</td>\n",
       "      <td>11.843211</td>\n",
       "      <td>2093.199837</td>\n",
       "      <td>4.091546</td>\n",
       "      <td>409.647467</td>\n",
       "      <td>63.123361</td>\n",
       "      <td>0.133005</td>\n",
       "      <td>22.198410</td>\n",
       "      <td>0.079117</td>\n",
       "      <td>1958.571538</td>\n",
       "      <td>1.539149e+05</td>\n",
       "      <td>3.805304e+04</td>\n",
       "    </tr>\n",
       "    <tr>\n",
       "      <th>min</th>\n",
       "      <td>7.047300e+04</td>\n",
       "      <td>500.000000</td>\n",
       "      <td>500.000000</td>\n",
       "      <td>0.000000</td>\n",
       "      <td>5.320000</td>\n",
       "      <td>0.000000</td>\n",
       "      <td>1.200000e+03</td>\n",
       "      <td>0.000000</td>\n",
       "      <td>0.000000</td>\n",
       "      <td>0.000000</td>\n",
       "      <td>0.000000</td>\n",
       "      <td>0.000000</td>\n",
       "      <td>0.000000</td>\n",
       "      <td>0.000000</td>\n",
       "      <td>0.000000e+00</td>\n",
       "      <td>0.000000</td>\n",
       "      <td>1.000000</td>\n",
       "      <td>0.000000</td>\n",
       "      <td>0.000000</td>\n",
       "      <td>0.000000</td>\n",
       "      <td>0.000000</td>\n",
       "      <td>0.000000</td>\n",
       "      <td>0.000000</td>\n",
       "      <td>0.000000</td>\n",
       "      <td>0.000000</td>\n",
       "      <td>0.000000e+00</td>\n",
       "      <td>0.000000e+00</td>\n",
       "    </tr>\n",
       "    <tr>\n",
       "      <th>25%</th>\n",
       "      <td>1.086688e+07</td>\n",
       "      <td>8000.000000</td>\n",
       "      <td>8000.000000</td>\n",
       "      <td>8000.000000</td>\n",
       "      <td>9.990000</td>\n",
       "      <td>2.000000</td>\n",
       "      <td>4.500000e+04</td>\n",
       "      <td>11.930000</td>\n",
       "      <td>0.000000</td>\n",
       "      <td>0.000000</td>\n",
       "      <td>15.000000</td>\n",
       "      <td>51.000000</td>\n",
       "      <td>8.000000</td>\n",
       "      <td>0.000000</td>\n",
       "      <td>6.444000e+03</td>\n",
       "      <td>37.700000</td>\n",
       "      <td>17.000000</td>\n",
       "      <td>441.600000</td>\n",
       "      <td>0.000000</td>\n",
       "      <td>0.000000</td>\n",
       "      <td>0.000000</td>\n",
       "      <td>0.000000</td>\n",
       "      <td>27.000000</td>\n",
       "      <td>0.000000</td>\n",
       "      <td>0.000000</td>\n",
       "      <td>2.983975e+04</td>\n",
       "      <td>1.400000e+04</td>\n",
       "    </tr>\n",
       "    <tr>\n",
       "      <th>50%</th>\n",
       "      <td>3.709590e+07</td>\n",
       "      <td>13000.000000</td>\n",
       "      <td>13000.000000</td>\n",
       "      <td>13000.000000</td>\n",
       "      <td>12.990000</td>\n",
       "      <td>3.000000</td>\n",
       "      <td>6.500000e+04</td>\n",
       "      <td>17.650000</td>\n",
       "      <td>0.000000</td>\n",
       "      <td>0.000000</td>\n",
       "      <td>31.000000</td>\n",
       "      <td>70.000000</td>\n",
       "      <td>11.000000</td>\n",
       "      <td>0.000000</td>\n",
       "      <td>1.187600e+04</td>\n",
       "      <td>56.000000</td>\n",
       "      <td>24.000000</td>\n",
       "      <td>1072.690000</td>\n",
       "      <td>0.000000</td>\n",
       "      <td>0.000000</td>\n",
       "      <td>0.000000</td>\n",
       "      <td>0.000000</td>\n",
       "      <td>44.000000</td>\n",
       "      <td>0.000000</td>\n",
       "      <td>0.000000</td>\n",
       "      <td>8.066950e+04</td>\n",
       "      <td>2.370000e+04</td>\n",
       "    </tr>\n",
       "    <tr>\n",
       "      <th>75%</th>\n",
       "      <td>5.848920e+07</td>\n",
       "      <td>20000.000000</td>\n",
       "      <td>20000.000000</td>\n",
       "      <td>20000.000000</td>\n",
       "      <td>16.200000</td>\n",
       "      <td>3.000000</td>\n",
       "      <td>9.000000e+04</td>\n",
       "      <td>23.950000</td>\n",
       "      <td>0.000000</td>\n",
       "      <td>1.000000</td>\n",
       "      <td>50.000000</td>\n",
       "      <td>92.000000</td>\n",
       "      <td>14.000000</td>\n",
       "      <td>0.000000</td>\n",
       "      <td>2.084300e+04</td>\n",
       "      <td>73.600000</td>\n",
       "      <td>32.000000</td>\n",
       "      <td>2234.735000</td>\n",
       "      <td>0.000000</td>\n",
       "      <td>0.000000</td>\n",
       "      <td>0.000000</td>\n",
       "      <td>0.000000</td>\n",
       "      <td>61.000000</td>\n",
       "      <td>0.000000</td>\n",
       "      <td>0.000000</td>\n",
       "      <td>2.084792e+05</td>\n",
       "      <td>3.980000e+04</td>\n",
       "    </tr>\n",
       "    <tr>\n",
       "      <th>max</th>\n",
       "      <td>7.354484e+07</td>\n",
       "      <td>35000.000000</td>\n",
       "      <td>35000.000000</td>\n",
       "      <td>35000.000000</td>\n",
       "      <td>28.990000</td>\n",
       "      <td>4.000000</td>\n",
       "      <td>9.500000e+06</td>\n",
       "      <td>672.520000</td>\n",
       "      <td>30.000000</td>\n",
       "      <td>31.000000</td>\n",
       "      <td>180.000000</td>\n",
       "      <td>121.000000</td>\n",
       "      <td>90.000000</td>\n",
       "      <td>86.000000</td>\n",
       "      <td>2.568995e+06</td>\n",
       "      <td>892.300000</td>\n",
       "      <td>162.000000</td>\n",
       "      <td>24205.620000</td>\n",
       "      <td>358.680000</td>\n",
       "      <td>33520.270000</td>\n",
       "      <td>7002.190000</td>\n",
       "      <td>16.000000</td>\n",
       "      <td>180.000000</td>\n",
       "      <td>14.000000</td>\n",
       "      <td>496651.000000</td>\n",
       "      <td>8.000078e+06</td>\n",
       "      <td>9.999999e+06</td>\n",
       "    </tr>\n",
       "  </tbody>\n",
       "</table>\n",
       "</div>"
      ],
      "text/plain": [
       "          member_id      loan_amnt    funded_amnt  funded_amnt_inv  \\\n",
       "count  5.324280e+05  532428.000000  532428.000000    532428.000000   \n",
       "mean   3.500547e+07   14757.595722   14744.271291     14704.926696   \n",
       "std    2.412148e+07    8434.420080    8429.139277      8441.290381   \n",
       "min    7.047300e+04     500.000000     500.000000         0.000000   \n",
       "25%    1.086688e+07    8000.000000    8000.000000      8000.000000   \n",
       "50%    3.709590e+07   13000.000000   13000.000000     13000.000000   \n",
       "75%    5.848920e+07   20000.000000   20000.000000     20000.000000   \n",
       "max    7.354484e+07   35000.000000   35000.000000     35000.000000   \n",
       "\n",
       "            int_rate  home_ownership    annual_inc            dti  \\\n",
       "count  532428.000000   532428.000000  5.324250e+05  532428.000000   \n",
       "mean       13.242969        2.696962  7.502984e+04      18.138767   \n",
       "std         4.379611        0.640217  6.519985e+04       8.369074   \n",
       "min         5.320000        0.000000  1.200000e+03       0.000000   \n",
       "25%         9.990000        2.000000  4.500000e+04      11.930000   \n",
       "50%        12.990000        3.000000  6.500000e+04      17.650000   \n",
       "75%        16.200000        3.000000  9.000000e+04      23.950000   \n",
       "max        28.990000        4.000000  9.500000e+06     672.520000   \n",
       "\n",
       "         delinq_2yrs  inq_last_6mths  mths_since_last_delinq  \\\n",
       "count  532412.000000   532412.000000           259874.000000   \n",
       "mean        0.314448        0.694603               34.055735   \n",
       "std         0.860045        0.997025               21.884797   \n",
       "min         0.000000        0.000000                0.000000   \n",
       "25%         0.000000        0.000000               15.000000   \n",
       "50%         0.000000        0.000000               31.000000   \n",
       "75%         0.000000        1.000000               50.000000   \n",
       "max        30.000000       31.000000              180.000000   \n",
       "\n",
       "       mths_since_last_record       open_acc        pub_rec     revol_bal  \\\n",
       "count            82123.000000  532412.000000  532412.000000  5.324280e+05   \n",
       "mean                70.093068      11.545594       0.194858  1.692128e+04   \n",
       "std                 28.139219       5.311442       0.583822  2.242322e+04   \n",
       "min                  0.000000       0.000000       0.000000  0.000000e+00   \n",
       "25%                 51.000000       8.000000       0.000000  6.444000e+03   \n",
       "50%                 70.000000      11.000000       0.000000  1.187600e+04   \n",
       "75%                 92.000000      14.000000       0.000000  2.084300e+04   \n",
       "max                121.000000      90.000000      86.000000  2.568995e+06   \n",
       "\n",
       "          revol_util      total_acc  total_rec_int  total_rec_late_fee  \\\n",
       "count  532141.000000  532412.000000  532428.000000       532428.000000   \n",
       "mean       55.057189      25.267357    1753.428788            0.394954   \n",
       "std        23.853436      11.843211    2093.199837            4.091546   \n",
       "min         0.000000       1.000000       0.000000            0.000000   \n",
       "25%        37.700000      17.000000     441.600000            0.000000   \n",
       "50%        56.000000      24.000000    1072.690000            0.000000   \n",
       "75%        73.600000      32.000000    2234.735000            0.000000   \n",
       "max       892.300000     162.000000   24205.620000          358.680000   \n",
       "\n",
       "          recoveries  collection_recovery_fee  collections_12_mths_ex_med  \\\n",
       "count  532428.000000            532428.000000               532333.000000   \n",
       "mean       45.717832                 4.859221                    0.014299   \n",
       "std       409.647467                63.123361                    0.133005   \n",
       "min         0.000000                 0.000000                    0.000000   \n",
       "25%         0.000000                 0.000000                    0.000000   \n",
       "50%         0.000000                 0.000000                    0.000000   \n",
       "75%         0.000000                 0.000000                    0.000000   \n",
       "max     33520.270000              7002.190000                   16.000000   \n",
       "\n",
       "       mths_since_last_major_derog  acc_now_delinq   tot_coll_amt  \\\n",
       "count                132980.000000   532412.000000  490424.000000   \n",
       "mean                     44.121462        0.005015     213.562222   \n",
       "std                      22.198410        0.079117    1958.571538   \n",
       "min                       0.000000        0.000000       0.000000   \n",
       "25%                      27.000000        0.000000       0.000000   \n",
       "50%                      44.000000        0.000000       0.000000   \n",
       "75%                      61.000000        0.000000       0.000000   \n",
       "max                     180.000000       14.000000  496651.000000   \n",
       "\n",
       "        tot_cur_bal  total_rev_hi_lim  \n",
       "count  4.904240e+05      4.904240e+05  \n",
       "mean   1.395541e+05      3.208057e+04  \n",
       "std    1.539149e+05      3.805304e+04  \n",
       "min    0.000000e+00      0.000000e+00  \n",
       "25%    2.983975e+04      1.400000e+04  \n",
       "50%    8.066950e+04      2.370000e+04  \n",
       "75%    2.084792e+05      3.980000e+04  \n",
       "max    8.000078e+06      9.999999e+06  "
      ]
     },
     "execution_count": 168,
     "metadata": {},
     "output_type": "execute_result"
    }
   ],
   "source": [
    "train.describe()"
   ]
  },
  {
   "cell_type": "code",
   "execution_count": null,
   "metadata": {},
   "outputs": [],
   "source": []
  },
  {
   "cell_type": "code",
   "execution_count": 169,
   "metadata": {
    "scrolled": true
   },
   "outputs": [
    {
     "data": {
      "text/plain": [
       "<matplotlib.axes._subplots.AxesSubplot at 0x2532ec5ab00>"
      ]
     },
     "execution_count": 169,
     "metadata": {},
     "output_type": "execute_result"
    },
    {
     "data": {
      "image/png": "[encoded data removed]",
      "text/plain": [
       "<Figure size 432x288 with 1 Axes>"
      ]
     },
     "metadata": {
      "needs_background": "light"
     },
     "output_type": "display_data"
    }
   ],
   "source": [
    "# full_df.boxplot(column=['loan_amnt', 'funded_amnt','funded_amnt_inv'])\n",
    "train.boxplot(column=['loan_amnt', 'funded_amnt','funded_amnt_inv'])"
   ]
  },
  {
   "cell_type": "code",
   "execution_count": 170,
   "metadata": {},
   "outputs": [
    {
     "data": {
      "text/plain": [
       "<matplotlib.axes._subplots.AxesSubplot at 0x2532e968dd8>"
      ]
     },
     "execution_count": 170,
     "metadata": {},
     "output_type": "execute_result"
    },
    {
     "data": {
      "image/png": "[encoded data removed]",
      "text/plain": [
       "<Figure size 1008x1008 with 1 Axes>"
      ]
     },
     "metadata": {
      "needs_background": "light"
     },
     "output_type": "display_data"
    }
   ],
   "source": [
    "train.boxplot(column=['annual_inc'],figsize = (14,14))"
   ]
  },
  {
   "cell_type": "code",
   "execution_count": 171,
   "metadata": {},
   "outputs": [],
   "source": [
    "#x=np.nan_to_num(x,0)\n",
    "#sum(np.isnan(x))\n",
    "#sum(np.isnan(y))\n",
    "#y.max()"
   ]
  },
  {
   "cell_type": "code",
   "execution_count": 172,
   "metadata": {},
   "outputs": [],
   "source": [
    "# plt.plot(train['annual_inc'], target,'.')\n",
    "# plt.show()\n",
    "\n",
    "##set1 = [(x,y,z) for (x,y,z) in zip(train['annual_inc'],train['loan_amnt'],target) if z ==0]\n",
    "##set2 = [(x,y,z) for (x,y,z) in zip(train['annual_inc'],train['loan_amnt'],target) if z ==1]\n",
    "\n",
    "# x, y, z = list(zip(*set1))\n",
    "# plt.plot(x,y,'.',c='red',label=\"good\")\n",
    "# x, y, z = list(zip(*set2))\n",
    "# plt.plot(x,y,'.',c='green',label=\"default\")\n",
    "# plt.legend()\n",
    "# plt.xlim((0,100000))\n",
    "# plt.show()\n",
    "\n",
    "##x, y, z = list(zip(*set1))\n",
    "#plt.hexbin(x,y,gridsize=(600,20))\n",
    "#plt.xlim((0,500000))\n",
    "#plt.colorbar()\n",
    "#plt.show()\n",
    "\n",
    "#x, y, z = list(zip(*set2))\n",
    "#plt.hexbin(x,y,gridsize=(400,20))\n",
    "#plt.xlim((0,500000))\n",
    "#plt.colorbar()\n",
    "#plt.show()\n",
    "\n",
    "#from scipy.stats import kde\n",
    " \n",
    "\n",
    "# Evaluate a gaussian kde on a regular grid of nbins x nbins over data extents\n",
    "\n",
    "#nbins=300\n",
    "#x=np.nan_to_num(x,0)\n",
    "#y=np.array(y)\n",
    "#k = kde.gaussian_kde([x,y])\n",
    "#xi, yi = np.mgrid[x.min():x.max():nbins*1j, y.min():y.max():nbins*1j]\n",
    "#zi = k(np.vstack([xi.flatten(), yi.flatten()]))\n",
    " \n",
    "# Make the plot\n",
    "#plt.pcolormesh(xi, yi, zi.reshape(xi.shape))\n",
    "#plt.show()\n",
    " \n",
    "# Change color palette\n",
    "#plt.pcolormesh(xi, yi, zi.reshape(xi.shape), cmap=plt.cm.Greens_r)\n",
    "#plt.show()\n"
   ]
  },
  {
   "cell_type": "code",
   "execution_count": 173,
   "metadata": {},
   "outputs": [],
   "source": [
    "#full_df['loan_amnt'].boxplot()\n",
    "#plt.show()\n",
    "#full_df['funded_amnt'].hist()\n",
    "#plt.show()"
   ]
  },
  {
   "cell_type": "code",
   "execution_count": 174,
   "metadata": {},
   "outputs": [],
   "source": [
    "#plt.plot(train['annual_inc'], target,'.')"
   ]
  },
  {
   "cell_type": "code",
   "execution_count": 175,
   "metadata": {},
   "outputs": [
    {
     "data": {
      "text/html": [
       "<div>\n",
       "<style scoped>\n",
       "    .dataframe tbody tr th:only-of-type {\n",
       "        vertical-align: middle;\n",
       "    }\n",
       "\n",
       "    .dataframe tbody tr th {\n",
       "        vertical-align: top;\n",
       "    }\n",
       "\n",
       "    .dataframe thead th {\n",
       "        text-align: right;\n",
       "    }\n",
       "</style>\n",
       "<table border=\"1\" class=\"dataframe\">\n",
       "  <thead>\n",
       "    <tr style=\"text-align: right;\">\n",
       "      <th></th>\n",
       "      <th>member_id</th>\n",
       "      <th>loan_amnt</th>\n",
       "      <th>funded_amnt</th>\n",
       "      <th>funded_amnt_inv</th>\n",
       "      <th>int_rate</th>\n",
       "      <th>home_ownership</th>\n",
       "      <th>annual_inc</th>\n",
       "      <th>dti</th>\n",
       "      <th>delinq_2yrs</th>\n",
       "      <th>inq_last_6mths</th>\n",
       "      <th>mths_since_last_delinq</th>\n",
       "      <th>mths_since_last_record</th>\n",
       "      <th>open_acc</th>\n",
       "      <th>pub_rec</th>\n",
       "      <th>revol_bal</th>\n",
       "      <th>revol_util</th>\n",
       "      <th>total_acc</th>\n",
       "      <th>total_rec_int</th>\n",
       "      <th>total_rec_late_fee</th>\n",
       "      <th>recoveries</th>\n",
       "      <th>collection_recovery_fee</th>\n",
       "      <th>collections_12_mths_ex_med</th>\n",
       "      <th>mths_since_last_major_derog</th>\n",
       "      <th>acc_now_delinq</th>\n",
       "      <th>tot_coll_amt</th>\n",
       "      <th>tot_cur_bal</th>\n",
       "      <th>total_rev_hi_lim</th>\n",
       "    </tr>\n",
       "  </thead>\n",
       "  <tbody>\n",
       "    <tr>\n",
       "      <th>count</th>\n",
       "      <td>5.324280e+05</td>\n",
       "      <td>532428.000000</td>\n",
       "      <td>532428.000000</td>\n",
       "      <td>532428.000000</td>\n",
       "      <td>532428.000000</td>\n",
       "      <td>532428.000000</td>\n",
       "      <td>5.324250e+05</td>\n",
       "      <td>532428.000000</td>\n",
       "      <td>532412.000000</td>\n",
       "      <td>532412.000000</td>\n",
       "      <td>259874.000000</td>\n",
       "      <td>82123.000000</td>\n",
       "      <td>532412.000000</td>\n",
       "      <td>532412.000000</td>\n",
       "      <td>5.324280e+05</td>\n",
       "      <td>532141.000000</td>\n",
       "      <td>532412.000000</td>\n",
       "      <td>532428.000000</td>\n",
       "      <td>532428.000000</td>\n",
       "      <td>532428.000000</td>\n",
       "      <td>532428.000000</td>\n",
       "      <td>532333.000000</td>\n",
       "      <td>132980.000000</td>\n",
       "      <td>532412.000000</td>\n",
       "      <td>490424.000000</td>\n",
       "      <td>4.904240e+05</td>\n",
       "      <td>4.904240e+05</td>\n",
       "    </tr>\n",
       "    <tr>\n",
       "      <th>mean</th>\n",
       "      <td>3.500547e+07</td>\n",
       "      <td>14757.595722</td>\n",
       "      <td>14744.271291</td>\n",
       "      <td>14704.926696</td>\n",
       "      <td>13.242969</td>\n",
       "      <td>2.696962</td>\n",
       "      <td>7.502984e+04</td>\n",
       "      <td>18.138767</td>\n",
       "      <td>0.314448</td>\n",
       "      <td>0.694603</td>\n",
       "      <td>34.055735</td>\n",
       "      <td>70.093068</td>\n",
       "      <td>11.545594</td>\n",
       "      <td>0.194858</td>\n",
       "      <td>1.692128e+04</td>\n",
       "      <td>55.057189</td>\n",
       "      <td>25.267357</td>\n",
       "      <td>1753.428788</td>\n",
       "      <td>0.394954</td>\n",
       "      <td>45.717832</td>\n",
       "      <td>4.859221</td>\n",
       "      <td>0.014299</td>\n",
       "      <td>44.121462</td>\n",
       "      <td>0.005015</td>\n",
       "      <td>213.562222</td>\n",
       "      <td>1.395541e+05</td>\n",
       "      <td>3.208057e+04</td>\n",
       "    </tr>\n",
       "    <tr>\n",
       "      <th>std</th>\n",
       "      <td>2.412148e+07</td>\n",
       "      <td>8434.420080</td>\n",
       "      <td>8429.139277</td>\n",
       "      <td>8441.290381</td>\n",
       "      <td>4.379611</td>\n",
       "      <td>0.640217</td>\n",
       "      <td>6.519985e+04</td>\n",
       "      <td>8.369074</td>\n",
       "      <td>0.860045</td>\n",
       "      <td>0.997025</td>\n",
       "      <td>21.884797</td>\n",
       "      <td>28.139219</td>\n",
       "      <td>5.311442</td>\n",
       "      <td>0.583822</td>\n",
       "      <td>2.242322e+04</td>\n",
       "      <td>23.853436</td>\n",
       "      <td>11.843211</td>\n",
       "      <td>2093.199837</td>\n",
       "      <td>4.091546</td>\n",
       "      <td>409.647467</td>\n",
       "      <td>63.123361</td>\n",
       "      <td>0.133005</td>\n",
       "      <td>22.198410</td>\n",
       "      <td>0.079117</td>\n",
       "      <td>1958.571538</td>\n",
       "      <td>1.539149e+05</td>\n",
       "      <td>3.805304e+04</td>\n",
       "    </tr>\n",
       "    <tr>\n",
       "      <th>min</th>\n",
       "      <td>7.047300e+04</td>\n",
       "      <td>500.000000</td>\n",
       "      <td>500.000000</td>\n",
       "      <td>0.000000</td>\n",
       "      <td>5.320000</td>\n",
       "      <td>0.000000</td>\n",
       "      <td>1.200000e+03</td>\n",
       "      <td>0.000000</td>\n",
       "      <td>0.000000</td>\n",
       "      <td>0.000000</td>\n",
       "      <td>0.000000</td>\n",
       "      <td>0.000000</td>\n",
       "      <td>0.000000</td>\n",
       "      <td>0.000000</td>\n",
       "      <td>0.000000e+00</td>\n",
       "      <td>0.000000</td>\n",
       "      <td>1.000000</td>\n",
       "      <td>0.000000</td>\n",
       "      <td>0.000000</td>\n",
       "      <td>0.000000</td>\n",
       "      <td>0.000000</td>\n",
       "      <td>0.000000</td>\n",
       "      <td>0.000000</td>\n",
       "      <td>0.000000</td>\n",
       "      <td>0.000000</td>\n",
       "      <td>0.000000e+00</td>\n",
       "      <td>0.000000e+00</td>\n",
       "    </tr>\n",
       "    <tr>\n",
       "      <th>25%</th>\n",
       "      <td>1.086688e+07</td>\n",
       "      <td>8000.000000</td>\n",
       "      <td>8000.000000</td>\n",
       "      <td>8000.000000</td>\n",
       "      <td>9.990000</td>\n",
       "      <td>2.000000</td>\n",
       "      <td>4.500000e+04</td>\n",
       "      <td>11.930000</td>\n",
       "      <td>0.000000</td>\n",
       "      <td>0.000000</td>\n",
       "      <td>15.000000</td>\n",
       "      <td>51.000000</td>\n",
       "      <td>8.000000</td>\n",
       "      <td>0.000000</td>\n",
       "      <td>6.444000e+03</td>\n",
       "      <td>37.700000</td>\n",
       "      <td>17.000000</td>\n",
       "      <td>441.600000</td>\n",
       "      <td>0.000000</td>\n",
       "      <td>0.000000</td>\n",
       "      <td>0.000000</td>\n",
       "      <td>0.000000</td>\n",
       "      <td>27.000000</td>\n",
       "      <td>0.000000</td>\n",
       "      <td>0.000000</td>\n",
       "      <td>2.983975e+04</td>\n",
       "      <td>1.400000e+04</td>\n",
       "    </tr>\n",
       "    <tr>\n",
       "      <th>50%</th>\n",
       "      <td>3.709590e+07</td>\n",
       "      <td>13000.000000</td>\n",
       "      <td>13000.000000</td>\n",
       "      <td>13000.000000</td>\n",
       "      <td>12.990000</td>\n",
       "      <td>3.000000</td>\n",
       "      <td>6.500000e+04</td>\n",
       "      <td>17.650000</td>\n",
       "      <td>0.000000</td>\n",
       "      <td>0.000000</td>\n",
       "      <td>31.000000</td>\n",
       "      <td>70.000000</td>\n",
       "      <td>11.000000</td>\n",
       "      <td>0.000000</td>\n",
       "      <td>1.187600e+04</td>\n",
       "      <td>56.000000</td>\n",
       "      <td>24.000000</td>\n",
       "      <td>1072.690000</td>\n",
       "      <td>0.000000</td>\n",
       "      <td>0.000000</td>\n",
       "      <td>0.000000</td>\n",
       "      <td>0.000000</td>\n",
       "      <td>44.000000</td>\n",
       "      <td>0.000000</td>\n",
       "      <td>0.000000</td>\n",
       "      <td>8.066950e+04</td>\n",
       "      <td>2.370000e+04</td>\n",
       "    </tr>\n",
       "    <tr>\n",
       "      <th>75%</th>\n",
       "      <td>5.848920e+07</td>\n",
       "      <td>20000.000000</td>\n",
       "      <td>20000.000000</td>\n",
       "      <td>20000.000000</td>\n",
       "      <td>16.200000</td>\n",
       "      <td>3.000000</td>\n",
       "      <td>9.000000e+04</td>\n",
       "      <td>23.950000</td>\n",
       "      <td>0.000000</td>\n",
       "      <td>1.000000</td>\n",
       "      <td>50.000000</td>\n",
       "      <td>92.000000</td>\n",
       "      <td>14.000000</td>\n",
       "      <td>0.000000</td>\n",
       "      <td>2.084300e+04</td>\n",
       "      <td>73.600000</td>\n",
       "      <td>32.000000</td>\n",
       "      <td>2234.735000</td>\n",
       "      <td>0.000000</td>\n",
       "      <td>0.000000</td>\n",
       "      <td>0.000000</td>\n",
       "      <td>0.000000</td>\n",
       "      <td>61.000000</td>\n",
       "      <td>0.000000</td>\n",
       "      <td>0.000000</td>\n",
       "      <td>2.084792e+05</td>\n",
       "      <td>3.980000e+04</td>\n",
       "    </tr>\n",
       "    <tr>\n",
       "      <th>max</th>\n",
       "      <td>7.354484e+07</td>\n",
       "      <td>35000.000000</td>\n",
       "      <td>35000.000000</td>\n",
       "      <td>35000.000000</td>\n",
       "      <td>28.990000</td>\n",
       "      <td>4.000000</td>\n",
       "      <td>9.500000e+06</td>\n",
       "      <td>672.520000</td>\n",
       "      <td>30.000000</td>\n",
       "      <td>31.000000</td>\n",
       "      <td>180.000000</td>\n",
       "      <td>121.000000</td>\n",
       "      <td>90.000000</td>\n",
       "      <td>86.000000</td>\n",
       "      <td>2.568995e+06</td>\n",
       "      <td>892.300000</td>\n",
       "      <td>162.000000</td>\n",
       "      <td>24205.620000</td>\n",
       "      <td>358.680000</td>\n",
       "      <td>33520.270000</td>\n",
       "      <td>7002.190000</td>\n",
       "      <td>16.000000</td>\n",
       "      <td>180.000000</td>\n",
       "      <td>14.000000</td>\n",
       "      <td>496651.000000</td>\n",
       "      <td>8.000078e+06</td>\n",
       "      <td>9.999999e+06</td>\n",
       "    </tr>\n",
       "  </tbody>\n",
       "</table>\n",
       "</div>"
      ],
      "text/plain": [
       "          member_id      loan_amnt    funded_amnt  funded_amnt_inv  \\\n",
       "count  5.324280e+05  532428.000000  532428.000000    532428.000000   \n",
       "mean   3.500547e+07   14757.595722   14744.271291     14704.926696   \n",
       "std    2.412148e+07    8434.420080    8429.139277      8441.290381   \n",
       "min    7.047300e+04     500.000000     500.000000         0.000000   \n",
       "25%    1.086688e+07    8000.000000    8000.000000      8000.000000   \n",
       "50%    3.709590e+07   13000.000000   13000.000000     13000.000000   \n",
       "75%    5.848920e+07   20000.000000   20000.000000     20000.000000   \n",
       "max    7.354484e+07   35000.000000   35000.000000     35000.000000   \n",
       "\n",
       "            int_rate  home_ownership    annual_inc            dti  \\\n",
       "count  532428.000000   532428.000000  5.324250e+05  532428.000000   \n",
       "mean       13.242969        2.696962  7.502984e+04      18.138767   \n",
       "std         4.379611        0.640217  6.519985e+04       8.369074   \n",
       "min         5.320000        0.000000  1.200000e+03       0.000000   \n",
       "25%         9.990000        2.000000  4.500000e+04      11.930000   \n",
       "50%        12.990000        3.000000  6.500000e+04      17.650000   \n",
       "75%        16.200000        3.000000  9.000000e+04      23.950000   \n",
       "max        28.990000        4.000000  9.500000e+06     672.520000   \n",
       "\n",
       "         delinq_2yrs  inq_last_6mths  mths_since_last_delinq  \\\n",
       "count  532412.000000   532412.000000           259874.000000   \n",
       "mean        0.314448        0.694603               34.055735   \n",
       "std         0.860045        0.997025               21.884797   \n",
       "min         0.000000        0.000000                0.000000   \n",
       "25%         0.000000        0.000000               15.000000   \n",
       "50%         0.000000        0.000000               31.000000   \n",
       "75%         0.000000        1.000000               50.000000   \n",
       "max        30.000000       31.000000              180.000000   \n",
       "\n",
       "       mths_since_last_record       open_acc        pub_rec     revol_bal  \\\n",
       "count            82123.000000  532412.000000  532412.000000  5.324280e+05   \n",
       "mean                70.093068      11.545594       0.194858  1.692128e+04   \n",
       "std                 28.139219       5.311442       0.583822  2.242322e+04   \n",
       "min                  0.000000       0.000000       0.000000  0.000000e+00   \n",
       "25%                 51.000000       8.000000       0.000000  6.444000e+03   \n",
       "50%                 70.000000      11.000000       0.000000  1.187600e+04   \n",
       "75%                 92.000000      14.000000       0.000000  2.084300e+04   \n",
       "max                121.000000      90.000000      86.000000  2.568995e+06   \n",
       "\n",
       "          revol_util      total_acc  total_rec_int  total_rec_late_fee  \\\n",
       "count  532141.000000  532412.000000  532428.000000       532428.000000   \n",
       "mean       55.057189      25.267357    1753.428788            0.394954   \n",
       "std        23.853436      11.843211    2093.199837            4.091546   \n",
       "min         0.000000       1.000000       0.000000            0.000000   \n",
       "25%        37.700000      17.000000     441.600000            0.000000   \n",
       "50%        56.000000      24.000000    1072.690000            0.000000   \n",
       "75%        73.600000      32.000000    2234.735000            0.000000   \n",
       "max       892.300000     162.000000   24205.620000          358.680000   \n",
       "\n",
       "          recoveries  collection_recovery_fee  collections_12_mths_ex_med  \\\n",
       "count  532428.000000            532428.000000               532333.000000   \n",
       "mean       45.717832                 4.859221                    0.014299   \n",
       "std       409.647467                63.123361                    0.133005   \n",
       "min         0.000000                 0.000000                    0.000000   \n",
       "25%         0.000000                 0.000000                    0.000000   \n",
       "50%         0.000000                 0.000000                    0.000000   \n",
       "75%         0.000000                 0.000000                    0.000000   \n",
       "max     33520.270000              7002.190000                   16.000000   \n",
       "\n",
       "       mths_since_last_major_derog  acc_now_delinq   tot_coll_amt  \\\n",
       "count                132980.000000   532412.000000  490424.000000   \n",
       "mean                     44.121462        0.005015     213.562222   \n",
       "std                      22.198410        0.079117    1958.571538   \n",
       "min                       0.000000        0.000000       0.000000   \n",
       "25%                      27.000000        0.000000       0.000000   \n",
       "50%                      44.000000        0.000000       0.000000   \n",
       "75%                      61.000000        0.000000       0.000000   \n",
       "max                     180.000000       14.000000  496651.000000   \n",
       "\n",
       "        tot_cur_bal  total_rev_hi_lim  \n",
       "count  4.904240e+05      4.904240e+05  \n",
       "mean   1.395541e+05      3.208057e+04  \n",
       "std    1.539149e+05      3.805304e+04  \n",
       "min    0.000000e+00      0.000000e+00  \n",
       "25%    2.983975e+04      1.400000e+04  \n",
       "50%    8.066950e+04      2.370000e+04  \n",
       "75%    2.084792e+05      3.980000e+04  \n",
       "max    8.000078e+06      9.999999e+06  "
      ]
     },
     "execution_count": 175,
     "metadata": {},
     "output_type": "execute_result"
    }
   ],
   "source": [
    "train.describe()"
   ]
  },
  {
   "cell_type": "code",
   "execution_count": 176,
   "metadata": {
    "scrolled": true
   },
   "outputs": [
    {
     "name": "stdout",
     "output_type": "stream",
     "text": [
      "<class 'pandas.core.frame.DataFrame'>\n",
      "RangeIndex: 532428 entries, 0 to 532427\n",
      "Data columns (total 44 columns):\n",
      "member_id                      532428 non-null int64\n",
      "loan_amnt                      532428 non-null int64\n",
      "funded_amnt                    532428 non-null int64\n",
      "funded_amnt_inv                532428 non-null float64\n",
      "term                           532428 non-null object\n",
      "batch_enrolled                 447279 non-null object\n",
      "int_rate                       532428 non-null float64\n",
      "grade                          532428 non-null object\n",
      "sub_grade                      532428 non-null object\n",
      "emp_title                      501595 non-null object\n",
      "emp_length                     505537 non-null object\n",
      "home_ownership                 532428 non-null int64\n",
      "annual_inc                     532425 non-null float64\n",
      "verification_status            532428 non-null object\n",
      "pymnt_plan                     532428 non-null object\n",
      "desc                           75599 non-null object\n",
      "purpose                        532428 non-null object\n",
      "title                          532338 non-null object\n",
      "zip_code                       532428 non-null object\n",
      "addr_state                     532428 non-null object\n",
      "dti                            532428 non-null float64\n",
      "delinq_2yrs                    532412 non-null float64\n",
      "inq_last_6mths                 532412 non-null float64\n",
      "mths_since_last_delinq         259874 non-null float64\n",
      "mths_since_last_record         82123 non-null float64\n",
      "open_acc                       532412 non-null float64\n",
      "pub_rec                        532412 non-null float64\n",
      "revol_bal                      532428 non-null float64\n",
      "revol_util                     532141 non-null float64\n",
      "total_acc                      532412 non-null float64\n",
      "initial_list_status            532428 non-null object\n",
      "total_rec_int                  532428 non-null float64\n",
      "total_rec_late_fee             532428 non-null float64\n",
      "recoveries                     532428 non-null float64\n",
      "collection_recovery_fee        532428 non-null float64\n",
      "collections_12_mths_ex_med     532333 non-null float64\n",
      "mths_since_last_major_derog    132980 non-null float64\n",
      "application_type               532428 non-null object\n",
      "verification_status_joint      305 non-null object\n",
      "last_week_pay                  532428 non-null object\n",
      "acc_now_delinq                 532412 non-null float64\n",
      "tot_coll_amt                   490424 non-null float64\n",
      "tot_cur_bal                    490424 non-null float64\n",
      "total_rev_hi_lim               490424 non-null float64\n",
      "dtypes: float64(23), int64(4), object(17)\n",
      "memory usage: 178.7+ MB\n"
     ]
    }
   ],
   "source": [
    "train.info()"
   ]
  },
  {
   "cell_type": "code",
   "execution_count": 177,
   "metadata": {},
   "outputs": [
    {
     "data": {
      "text/plain": [
       "<matplotlib.axes._subplots.AxesSubplot at 0x2532a167240>"
      ]
     },
     "execution_count": 177,
     "metadata": {},
     "output_type": "execute_result"
    },
    {
     "data": {
      "image/png": "[encoded data removed]",
      "text/plain": [
       "<Figure size 432x288 with 1 Axes>"
      ]
     },
     "metadata": {
      "needs_background": "light"
     },
     "output_type": "display_data"
    }
   ],
   "source": [
    "train['int_rate'].plot.hist()"
   ]
  },
  {
   "cell_type": "code",
   "execution_count": 178,
   "metadata": {},
   "outputs": [
    {
     "data": {
      "text/plain": [
       "<matplotlib.axes._subplots.AxesSubplot at 0x25348b6a048>"
      ]
     },
     "execution_count": 178,
     "metadata": {},
     "output_type": "execute_result"
    },
    {
     "data": {
      "image/png": "[encoded data removed]",
      "text/plain": [
       "<Figure size 432x288 with 1 Axes>"
      ]
     },
     "metadata": {
      "needs_background": "light"
     },
     "output_type": "display_data"
    }
   ],
   "source": [
    "train['annual_inc'].plot.hist()"
   ]
  },
  {
   "cell_type": "code",
   "execution_count": 179,
   "metadata": {},
   "outputs": [
    {
     "data": {
      "text/plain": [
       "Text(0.5, 0, 'annual_inc')"
      ]
     },
     "execution_count": 179,
     "metadata": {},
     "output_type": "execute_result"
    },
    {
     "data": {
      "image/png": "[encoded data removed]",
      "text/plain": [
       "<Figure size 432x288 with 1 Axes>"
      ]
     },
     "metadata": {
      "needs_background": "light"
     },
     "output_type": "display_data"
    }
   ],
   "source": [
    "ax1=train['annual_inc'].plot.hist()\n",
    "ax1.set_xlabel('annual_inc')"
   ]
  },
  {
   "cell_type": "code",
   "execution_count": 237,
   "metadata": {},
   "outputs": [
    {
     "data": {
      "text/plain": [
       "<matplotlib.axes._subplots.AxesSubplot at 0x2532f00da58>"
      ]
     },
     "execution_count": 237,
     "metadata": {},
     "output_type": "execute_result"
    },
    {
     "data": {
      "image/png": "[encoded data removed]",
      "text/plain": [
       "<Figure size 432x288 with 1 Axes>"
      ]
     },
     "metadata": {
      "needs_background": "light"
     },
     "output_type": "display_data"
    }
   ],
   "source": [
    "train['funded_amnt_inv'].plot.hist()"
   ]
  },
  {
   "cell_type": "code",
   "execution_count": 257,
   "metadata": {},
   "outputs": [
    {
     "ename": "ValueError",
     "evalue": "array must not contain infs or NaNs",
     "output_type": "error",
     "traceback": [
      "\u001b[1;31m---------------------------------------------------------------------------\u001b[0m",
      "\u001b[1;31mValueError\u001b[0m                                Traceback (most recent call last)",
      "\u001b[1;32m<ipython-input-257-8013373de017>\u001b[0m in \u001b[0;36m<module>\u001b[1;34m\u001b[0m\n\u001b[0;32m      5\u001b[0m \u001b[0mdata2\u001b[0m \u001b[1;33m=\u001b[0m \u001b[0mnp\u001b[0m\u001b[1;33m.\u001b[0m\u001b[0marray\u001b[0m\u001b[1;33m(\u001b[0m\u001b[0mtrain\u001b[0m\u001b[1;33m[\u001b[0m\u001b[1;34m'total_rec_int'\u001b[0m\u001b[1;33m]\u001b[0m\u001b[1;33m)\u001b[0m\u001b[1;33m\u001b[0m\u001b[1;33m\u001b[0m\u001b[0m\n\u001b[0;32m      6\u001b[0m \u001b[1;31m# obtaining the pdf (my_pdf is a function!)\u001b[0m\u001b[1;33m\u001b[0m\u001b[1;33m\u001b[0m\u001b[1;33m\u001b[0m\u001b[0m\n\u001b[1;32m----> 7\u001b[1;33m \u001b[0mmy_pdf2\u001b[0m \u001b[1;33m=\u001b[0m \u001b[0mgaussian_kde\u001b[0m\u001b[1;33m(\u001b[0m\u001b[0mdata2\u001b[0m\u001b[1;33m)\u001b[0m\u001b[1;33m\u001b[0m\u001b[1;33m\u001b[0m\u001b[0m\n\u001b[0m\u001b[0;32m      8\u001b[0m \u001b[1;33m\u001b[0m\u001b[0m\n\u001b[0;32m      9\u001b[0m \u001b[0mxmin\u001b[0m\u001b[1;33m,\u001b[0m \u001b[0mxmax\u001b[0m \u001b[1;33m=\u001b[0m \u001b[0mdata2\u001b[0m\u001b[1;33m.\u001b[0m\u001b[0mmin\u001b[0m\u001b[1;33m(\u001b[0m\u001b[1;33m)\u001b[0m\u001b[1;33m,\u001b[0m \u001b[0mdata2\u001b[0m\u001b[1;33m.\u001b[0m\u001b[0mmax\u001b[0m\u001b[1;33m(\u001b[0m\u001b[1;33m)\u001b[0m\u001b[1;33m\u001b[0m\u001b[1;33m\u001b[0m\u001b[0m\n",
      "\u001b[1;32m~\\OneDrive\\Python\\lib\\site-packages\\scipy\\stats\\kde.py\u001b[0m in \u001b[0;36m__init__\u001b[1;34m(self, dataset, bw_method, weights)\u001b[0m\n\u001b[0;32m    206\u001b[0m             \u001b[0mself\u001b[0m\u001b[1;33m.\u001b[0m\u001b[0m_neff\u001b[0m \u001b[1;33m=\u001b[0m \u001b[1;36m1\u001b[0m\u001b[1;33m/\u001b[0m\u001b[0msum\u001b[0m\u001b[1;33m(\u001b[0m\u001b[0mself\u001b[0m\u001b[1;33m.\u001b[0m\u001b[0m_weights\u001b[0m\u001b[1;33m**\u001b[0m\u001b[1;36m2\u001b[0m\u001b[1;33m)\u001b[0m\u001b[1;33m\u001b[0m\u001b[1;33m\u001b[0m\u001b[0m\n\u001b[0;32m    207\u001b[0m \u001b[1;33m\u001b[0m\u001b[0m\n\u001b[1;32m--> 208\u001b[1;33m         \u001b[0mself\u001b[0m\u001b[1;33m.\u001b[0m\u001b[0mset_bandwidth\u001b[0m\u001b[1;33m(\u001b[0m\u001b[0mbw_method\u001b[0m\u001b[1;33m=\u001b[0m\u001b[0mbw_method\u001b[0m\u001b[1;33m)\u001b[0m\u001b[1;33m\u001b[0m\u001b[1;33m\u001b[0m\u001b[0m\n\u001b[0m\u001b[0;32m    209\u001b[0m \u001b[1;33m\u001b[0m\u001b[0m\n\u001b[0;32m    210\u001b[0m     \u001b[1;32mdef\u001b[0m \u001b[0mevaluate\u001b[0m\u001b[1;33m(\u001b[0m\u001b[0mself\u001b[0m\u001b[1;33m,\u001b[0m \u001b[0mpoints\u001b[0m\u001b[1;33m)\u001b[0m\u001b[1;33m:\u001b[0m\u001b[1;33m\u001b[0m\u001b[1;33m\u001b[0m\u001b[0m\n",
      "\u001b[1;32m~\\OneDrive\\Python\\lib\\site-packages\\scipy\\stats\\kde.py\u001b[0m in \u001b[0;36mset_bandwidth\u001b[1;34m(self, bw_method)\u001b[0m\n\u001b[0;32m    538\u001b[0m             \u001b[1;32mraise\u001b[0m \u001b[0mValueError\u001b[0m\u001b[1;33m(\u001b[0m\u001b[0mmsg\u001b[0m\u001b[1;33m)\u001b[0m\u001b[1;33m\u001b[0m\u001b[1;33m\u001b[0m\u001b[0m\n\u001b[0;32m    539\u001b[0m \u001b[1;33m\u001b[0m\u001b[0m\n\u001b[1;32m--> 540\u001b[1;33m         \u001b[0mself\u001b[0m\u001b[1;33m.\u001b[0m\u001b[0m_compute_covariance\u001b[0m\u001b[1;33m(\u001b[0m\u001b[1;33m)\u001b[0m\u001b[1;33m\u001b[0m\u001b[1;33m\u001b[0m\u001b[0m\n\u001b[0m\u001b[0;32m    541\u001b[0m \u001b[1;33m\u001b[0m\u001b[0m\n\u001b[0;32m    542\u001b[0m     \u001b[1;32mdef\u001b[0m \u001b[0m_compute_covariance\u001b[0m\u001b[1;33m(\u001b[0m\u001b[0mself\u001b[0m\u001b[1;33m)\u001b[0m\u001b[1;33m:\u001b[0m\u001b[1;33m\u001b[0m\u001b[1;33m\u001b[0m\u001b[0m\n",
      "\u001b[1;32m~\\OneDrive\\Python\\lib\\site-packages\\scipy\\stats\\kde.py\u001b[0m in \u001b[0;36m_compute_covariance\u001b[1;34m(self)\u001b[0m\n\u001b[0;32m    550\u001b[0m                                                \u001b[0mbias\u001b[0m\u001b[1;33m=\u001b[0m\u001b[1;32mFalse\u001b[0m\u001b[1;33m,\u001b[0m\u001b[1;33m\u001b[0m\u001b[1;33m\u001b[0m\u001b[0m\n\u001b[0;32m    551\u001b[0m                                                aweights=self.weights))\n\u001b[1;32m--> 552\u001b[1;33m             \u001b[0mself\u001b[0m\u001b[1;33m.\u001b[0m\u001b[0m_data_inv_cov\u001b[0m \u001b[1;33m=\u001b[0m \u001b[0mlinalg\u001b[0m\u001b[1;33m.\u001b[0m\u001b[0minv\u001b[0m\u001b[1;33m(\u001b[0m\u001b[0mself\u001b[0m\u001b[1;33m.\u001b[0m\u001b[0m_data_covariance\u001b[0m\u001b[1;33m)\u001b[0m\u001b[1;33m\u001b[0m\u001b[1;33m\u001b[0m\u001b[0m\n\u001b[0m\u001b[0;32m    553\u001b[0m \u001b[1;33m\u001b[0m\u001b[0m\n\u001b[0;32m    554\u001b[0m         \u001b[0mself\u001b[0m\u001b[1;33m.\u001b[0m\u001b[0mcovariance\u001b[0m \u001b[1;33m=\u001b[0m \u001b[0mself\u001b[0m\u001b[1;33m.\u001b[0m\u001b[0m_data_covariance\u001b[0m \u001b[1;33m*\u001b[0m \u001b[0mself\u001b[0m\u001b[1;33m.\u001b[0m\u001b[0mfactor\u001b[0m\u001b[1;33m**\u001b[0m\u001b[1;36m2\u001b[0m\u001b[1;33m\u001b[0m\u001b[1;33m\u001b[0m\u001b[0m\n",
      "\u001b[1;32m~\\OneDrive\\Python\\lib\\site-packages\\scipy\\linalg\\basic.py\u001b[0m in \u001b[0;36minv\u001b[1;34m(a, overwrite_a, check_finite)\u001b[0m\n\u001b[0;32m    943\u001b[0m \u001b[1;33m\u001b[0m\u001b[0m\n\u001b[0;32m    944\u001b[0m     \"\"\"\n\u001b[1;32m--> 945\u001b[1;33m     \u001b[0ma1\u001b[0m \u001b[1;33m=\u001b[0m \u001b[0m_asarray_validated\u001b[0m\u001b[1;33m(\u001b[0m\u001b[0ma\u001b[0m\u001b[1;33m,\u001b[0m \u001b[0mcheck_finite\u001b[0m\u001b[1;33m=\u001b[0m\u001b[0mcheck_finite\u001b[0m\u001b[1;33m)\u001b[0m\u001b[1;33m\u001b[0m\u001b[1;33m\u001b[0m\u001b[0m\n\u001b[0m\u001b[0;32m    946\u001b[0m     \u001b[1;32mif\u001b[0m \u001b[0mlen\u001b[0m\u001b[1;33m(\u001b[0m\u001b[0ma1\u001b[0m\u001b[1;33m.\u001b[0m\u001b[0mshape\u001b[0m\u001b[1;33m)\u001b[0m \u001b[1;33m!=\u001b[0m \u001b[1;36m2\u001b[0m \u001b[1;32mor\u001b[0m \u001b[0ma1\u001b[0m\u001b[1;33m.\u001b[0m\u001b[0mshape\u001b[0m\u001b[1;33m[\u001b[0m\u001b[1;36m0\u001b[0m\u001b[1;33m]\u001b[0m \u001b[1;33m!=\u001b[0m \u001b[0ma1\u001b[0m\u001b[1;33m.\u001b[0m\u001b[0mshape\u001b[0m\u001b[1;33m[\u001b[0m\u001b[1;36m1\u001b[0m\u001b[1;33m]\u001b[0m\u001b[1;33m:\u001b[0m\u001b[1;33m\u001b[0m\u001b[1;33m\u001b[0m\u001b[0m\n\u001b[0;32m    947\u001b[0m         \u001b[1;32mraise\u001b[0m \u001b[0mValueError\u001b[0m\u001b[1;33m(\u001b[0m\u001b[1;34m'expected square matrix'\u001b[0m\u001b[1;33m)\u001b[0m\u001b[1;33m\u001b[0m\u001b[1;33m\u001b[0m\u001b[0m\n",
      "\u001b[1;32m~\\OneDrive\\Python\\lib\\site-packages\\scipy\\_lib\\_util.py\u001b[0m in \u001b[0;36m_asarray_validated\u001b[1;34m(a, check_finite, sparse_ok, objects_ok, mask_ok, as_inexact)\u001b[0m\n\u001b[0;32m    237\u001b[0m             \u001b[1;32mraise\u001b[0m \u001b[0mValueError\u001b[0m\u001b[1;33m(\u001b[0m\u001b[1;34m'masked arrays are not supported'\u001b[0m\u001b[1;33m)\u001b[0m\u001b[1;33m\u001b[0m\u001b[1;33m\u001b[0m\u001b[0m\n\u001b[0;32m    238\u001b[0m     \u001b[0mtoarray\u001b[0m \u001b[1;33m=\u001b[0m \u001b[0mnp\u001b[0m\u001b[1;33m.\u001b[0m\u001b[0masarray_chkfinite\u001b[0m \u001b[1;32mif\u001b[0m \u001b[0mcheck_finite\u001b[0m \u001b[1;32melse\u001b[0m \u001b[0mnp\u001b[0m\u001b[1;33m.\u001b[0m\u001b[0masarray\u001b[0m\u001b[1;33m\u001b[0m\u001b[1;33m\u001b[0m\u001b[0m\n\u001b[1;32m--> 239\u001b[1;33m     \u001b[0ma\u001b[0m \u001b[1;33m=\u001b[0m \u001b[0mtoarray\u001b[0m\u001b[1;33m(\u001b[0m\u001b[0ma\u001b[0m\u001b[1;33m)\u001b[0m\u001b[1;33m\u001b[0m\u001b[1;33m\u001b[0m\u001b[0m\n\u001b[0m\u001b[0;32m    240\u001b[0m     \u001b[1;32mif\u001b[0m \u001b[1;32mnot\u001b[0m \u001b[0mobjects_ok\u001b[0m\u001b[1;33m:\u001b[0m\u001b[1;33m\u001b[0m\u001b[1;33m\u001b[0m\u001b[0m\n\u001b[0;32m    241\u001b[0m         \u001b[1;32mif\u001b[0m \u001b[0ma\u001b[0m\u001b[1;33m.\u001b[0m\u001b[0mdtype\u001b[0m \u001b[1;32mis\u001b[0m \u001b[0mnp\u001b[0m\u001b[1;33m.\u001b[0m\u001b[0mdtype\u001b[0m\u001b[1;33m(\u001b[0m\u001b[1;34m'O'\u001b[0m\u001b[1;33m)\u001b[0m\u001b[1;33m:\u001b[0m\u001b[1;33m\u001b[0m\u001b[1;33m\u001b[0m\u001b[0m\n",
      "\u001b[1;32m~\\OneDrive\\Python\\lib\\site-packages\\numpy\\lib\\function_base.py\u001b[0m in \u001b[0;36masarray_chkfinite\u001b[1;34m(a, dtype, order)\u001b[0m\n\u001b[0;32m    496\u001b[0m     \u001b[1;32mif\u001b[0m \u001b[0ma\u001b[0m\u001b[1;33m.\u001b[0m\u001b[0mdtype\u001b[0m\u001b[1;33m.\u001b[0m\u001b[0mchar\u001b[0m \u001b[1;32min\u001b[0m \u001b[0mtypecodes\u001b[0m\u001b[1;33m[\u001b[0m\u001b[1;34m'AllFloat'\u001b[0m\u001b[1;33m]\u001b[0m \u001b[1;32mand\u001b[0m \u001b[1;32mnot\u001b[0m \u001b[0mnp\u001b[0m\u001b[1;33m.\u001b[0m\u001b[0misfinite\u001b[0m\u001b[1;33m(\u001b[0m\u001b[0ma\u001b[0m\u001b[1;33m)\u001b[0m\u001b[1;33m.\u001b[0m\u001b[0mall\u001b[0m\u001b[1;33m(\u001b[0m\u001b[1;33m)\u001b[0m\u001b[1;33m:\u001b[0m\u001b[1;33m\u001b[0m\u001b[1;33m\u001b[0m\u001b[0m\n\u001b[0;32m    497\u001b[0m         raise ValueError(\n\u001b[1;32m--> 498\u001b[1;33m             \"array must not contain infs or NaNs\")\n\u001b[0m\u001b[0;32m    499\u001b[0m     \u001b[1;32mreturn\u001b[0m \u001b[0ma\u001b[0m\u001b[1;33m\u001b[0m\u001b[1;33m\u001b[0m\u001b[0m\n\u001b[0;32m    500\u001b[0m \u001b[1;33m\u001b[0m\u001b[0m\n",
      "\u001b[1;31mValueError\u001b[0m: array must not contain infs or NaNs"
     ]
    }
   ],
   "source": [
    "from scipy.stats.kde import gaussian_kde\n",
    "from scipy.stats import norm\n",
    "import numpy as np \n",
    "\n",
    "data2 = np.array(train['total_rec_int'])\n",
    "# obtaining the pdf (my_pdf is a function!)\n",
    "my_pdf2 = gaussian_kde(data2)\n",
    "\n",
    "xmin, xmax = data2.min(), data2.max()\n",
    "delta = (xmax-xmin)/10.\n",
    "\n",
    "# plotting the result\n",
    "x = np.linspace(0,35000,1000)\n",
    "plt.hist(data2,alpha=.3,bins=10) # histogram\n",
    "plt.xlabel('total_rec_int')\n",
    "plt.plot(x,delta*len(data2)*my_pdf2(x),'r') # distribution function\n",
    "plt.show()"
   ]
  },
  {
   "cell_type": "code",
   "execution_count": 242,
   "metadata": {},
   "outputs": [
    {
     "data": {
      "image/png": "[encoded data removed]",
      "text/plain": [
       "<Figure size 432x288 with 1 Axes>"
      ]
     },
     "metadata": {
      "needs_background": "light"
     },
     "output_type": "display_data"
    }
   ],
   "source": [
    "data1 = np.array(train['funded_amnt_inv'])\n",
    "# obtaining the pdf (my_pdf is a function!)\n",
    "my_pdf1 = gaussian_kde(data1)\n",
    "\n",
    "xmin, xmax = data1.min(), data1.max()\n",
    "delta = (xmax-xmin)/10.\n",
    "\n",
    "# plotting the result\n",
    "x = np.linspace(0,35000,1000)\n",
    "plt.hist(data1,alpha=.3,bins=10) # histogram\n",
    "plt.xlabel('funded_amnt_inv')\n",
    "plt.plot(x,delta*len(data1)*my_pdf1(x),'r') # distribution function\n",
    "plt.show()"
   ]
  },
  {
   "cell_type": "code",
   "execution_count": 253,
   "metadata": {},
   "outputs": [
    {
     "data": {
      "text/plain": [
       "Text(0.5, 0, 'log_total_rec_int')"
      ]
     },
     "execution_count": 253,
     "metadata": {},
     "output_type": "execute_result"
    },
    {
     "data": {
      "image/png": "[encoded data removed]",
      "text/plain": [
       "<Figure size 432x288 with 1 Axes>"
      ]
     },
     "metadata": {
      "needs_background": "light"
     },
     "output_type": "display_data"
    }
   ],
   "source": [
    "train['log_total_rec_int'] = train['total_rec_int'].apply(lambda x: np.log(x))\n",
    "# train2['annual_inc'].plot.hist(alpha=0.4)\n",
    "# train2['log_annual_inc'].plot.hist(alpha=0.4)\n",
    "# plt.show()\n",
    "train4 = train['log_total_rec_int']\n",
    "ax4 = train4.plot.hist(alpha=.5,bins=10)\n",
    "ax4.set_xlabel('log_total_rec_int')"
   ]
  },
  {
   "cell_type": "code",
   "execution_count": 255,
   "metadata": {},
   "outputs": [
    {
     "data": {
      "image/png": "[encoded data removed]",
      "text/plain": [
       "<Figure size 432x288 with 1 Axes>"
      ]
     },
     "metadata": {
      "needs_background": "light"
     },
     "output_type": "display_data"
    }
   ],
   "source": [
    "\n",
    "data6 = np.array(train['log_total_rec_int'])\n",
    "# obtaining the pdf (my_pdf is a function!)\n",
    "my_pdf6 = gaussian_kde(data1)\n",
    "\n",
    "xmin, xmax = data6.min(), data6.max()\n",
    "delta = (xmax-xmin)/10.\n",
    "\n",
    "# plotting the result\n",
    "x = np.linspace(-4,4,100)\n",
    "plt.hist(data6,alpha=.3,bins=10) # histogram\n",
    "plt.xlabel('log_total_rec_int')\n",
    "plt.plot(x,delta*len(data6)*my_pdf6(x),'r') # distribution function\n",
    "plt.show()"
   ]
  },
  {
   "cell_type": "code",
   "execution_count": 258,
   "metadata": {},
   "outputs": [
    {
     "data": {
      "image/png": "[encoded data removed]",
      "text/plain": [
       "<Figure size 432x288 with 1 Axes>"
      ]
     },
     "metadata": {
      "needs_background": "light"
     },
     "output_type": "display_data"
    }
   ],
   "source": [
    "data5 = np.array(train['annual_inc'])\n",
    "# obtaining the pdf (my_pdf is a function!)\n",
    "my_pdf5 = gaussian_kde(data1)\n",
    "\n",
    "xmin, xmax = data5.min(), data5.max()\n",
    "delta = (xmax-xmin)/10.\n",
    "\n",
    "# plotting the result\n",
    "x = np.linspace(0,1e7,1000)\n",
    "plt.hist(data5,alpha=.3,bins=10) # histogram\n",
    "plt.xlabel('annual_inc')\n",
    "plt.plot(x,delta*len(data5)*my_pdf5(x),'r') # distribution function\n",
    "plt.show()"
   ]
  },
  {
   "cell_type": "code",
   "execution_count": 181,
   "metadata": {},
   "outputs": [
    {
     "data": {
      "text/plain": [
       "<matplotlib.axes._subplots.AxesSubplot at 0x2532a1644e0>"
      ]
     },
     "execution_count": 181,
     "metadata": {},
     "output_type": "execute_result"
    },
    {
     "data": {
      "image/png": "[encoded data removed]",
      "text/plain": [
       "<Figure size 432x288 with 1 Axes>"
      ]
     },
     "metadata": {
      "needs_background": "light"
     },
     "output_type": "display_data"
    }
   ],
   "source": [
    "train['target']=target\n",
    "#plt.plot(train['annual_inc', 'target'],'.')\n",
    "train.plot.scatter('annual_inc', 'target')"
   ]
  },
  {
   "cell_type": "code",
   "execution_count": 182,
   "metadata": {},
   "outputs": [
    {
     "data": {
      "text/plain": [
       "<matplotlib.axes._subplots.AxesSubplot at 0x2531b957198>"
      ]
     },
     "execution_count": 182,
     "metadata": {},
     "output_type": "execute_result"
    },
    {
     "data": {
      "image/png": "[encoded data removed]",
      "text/plain": [
       "<Figure size 432x288 with 1 Axes>"
      ]
     },
     "metadata": {
      "needs_background": "light"
     },
     "output_type": "display_data"
    }
   ],
   "source": [
    "train.plot.scatter('funded_amnt_inv', 'target')"
   ]
  },
  {
   "cell_type": "code",
   "execution_count": 183,
   "metadata": {},
   "outputs": [
    {
     "data": {
      "text/plain": [
       "<matplotlib.axes._subplots.AxesSubplot at 0x2531cb2c9b0>"
      ]
     },
     "execution_count": 183,
     "metadata": {},
     "output_type": "execute_result"
    },
    {
     "data": {
      "image/png": "[encoded data removed]",
      "text/plain": [
       "<Figure size 432x288 with 1 Axes>"
      ]
     },
     "metadata": {
      "needs_background": "light"
     },
     "output_type": "display_data"
    }
   ],
   "source": [
    "train.plot.scatter('int_rate', 'target')"
   ]
  },
  {
   "cell_type": "code",
   "execution_count": 184,
   "metadata": {},
   "outputs": [],
   "source": [
    "import seaborn as sns"
   ]
  },
  {
   "cell_type": "code",
   "execution_count": 185,
   "metadata": {},
   "outputs": [
    {
     "data": {
      "text/plain": [
       "Index(['member_id', 'loan_amnt', 'funded_amnt', 'funded_amnt_inv', 'term',\n",
       "       'batch_enrolled', 'int_rate', 'grade', 'sub_grade', 'emp_title',\n",
       "       'emp_length', 'home_ownership', 'annual_inc', 'verification_status',\n",
       "       'pymnt_plan', 'desc', 'purpose', 'title', 'zip_code', 'addr_state',\n",
       "       'dti', 'delinq_2yrs', 'inq_last_6mths', 'mths_since_last_delinq',\n",
       "       'mths_since_last_record', 'open_acc', 'pub_rec', 'revol_bal',\n",
       "       'revol_util', 'total_acc', 'initial_list_status', 'total_rec_int',\n",
       "       'total_rec_late_fee', 'recoveries', 'collection_recovery_fee',\n",
       "       'collections_12_mths_ex_med', 'mths_since_last_major_derog',\n",
       "       'application_type', 'verification_status_joint', 'last_week_pay',\n",
       "       'acc_now_delinq', 'tot_coll_amt', 'tot_cur_bal', 'total_rev_hi_lim',\n",
       "       'target'],\n",
       "      dtype='object')"
      ]
     },
     "execution_count": 185,
     "metadata": {},
     "output_type": "execute_result"
    }
   ],
   "source": [
    "train.columns"
   ]
  },
  {
   "cell_type": "code",
   "execution_count": 186,
   "metadata": {},
   "outputs": [],
   "source": [
    "train1= train[['target','member_id','loan_amnt', 'funded_amnt', 'funded_amnt_inv', 'term', 'pymnt_plan','grade','emp_length'\n",
    "       ,'batch_enrolled', 'int_rate', 'grade', 'emp_title', 'home_ownership', 'annual_inc', \n",
    "       'purpose', 'zip_code','total_rec_int','tot_cur_bal']]"
   ]
  },
  {
   "cell_type": "code",
   "execution_count": 187,
   "metadata": {},
   "outputs": [
    {
     "data": {
      "text/plain": [
       "<matplotlib.axes._subplots.AxesSubplot at 0x2531c925128>"
      ]
     },
     "execution_count": 187,
     "metadata": {},
     "output_type": "execute_result"
    },
    {
     "data": {
      "image/png": "[encoded data removed]",
      "text/plain": [
       "<Figure size 432x288 with 2 Axes>"
      ]
     },
     "metadata": {
      "needs_background": "light"
     },
     "output_type": "display_data"
    }
   ],
   "source": [
    "\n",
    "sns.heatmap(data = train1.corr(),annot=True, linewidths=1.5, fmt='.1g',cmap=plt.cm.Reds)\n"
   ]
  },
  {
   "cell_type": "code",
   "execution_count": 188,
   "metadata": {},
   "outputs": [],
   "source": [
    "from sklearn.preprocessing import StandardScaler\n",
    "from sklearn.linear_model import LinearRegression\n",
    "from sklearn.model_selection import train_test_split\n",
    "from sklearn.metrics import mean_squared_error\n",
    "from math import sqrt"
   ]
  },
  {
   "cell_type": "code",
   "execution_count": 189,
   "metadata": {},
   "outputs": [],
   "source": [
    "train2 = train.dropna(subset=['tot_cur_bal'])"
   ]
  },
  {
   "cell_type": "code",
   "execution_count": 190,
   "metadata": {},
   "outputs": [],
   "source": [
    "features = ['funded_amnt_inv', 'term', 'int_rate', 'home_ownership', 'annual_inc','total_rec_int','tot_cur_bal']\n",
    "X = train2[features].copy()\n",
    "y = train2['target'].copy()"
   ]
  },
  {
   "cell_type": "code",
   "execution_count": 191,
   "metadata": {
    "scrolled": true
   },
   "outputs": [
    {
     "data": {
      "text/plain": [
       "True"
      ]
     },
     "execution_count": 191,
     "metadata": {},
     "output_type": "execute_result"
    }
   ],
   "source": [
    "X_train,X_test,y_train,y_test=train_test_split(X,y,test_size = 0.33)\n",
    "X_train.shape[0] == y_train.shape[0]"
   ]
  },
  {
   "cell_type": "code",
   "execution_count": 192,
   "metadata": {},
   "outputs": [
    {
     "name": "stderr",
     "output_type": "stream",
     "text": [
      "C:\\Users\\lcu1812\\OneDrive\\Python\\lib\\site-packages\\sklearn\\linear_model\\logistic.py:433: FutureWarning: Default solver will be changed to 'lbfgs' in 0.22. Specify a solver to silence this warning.\n",
      "  FutureWarning)\n"
     ]
    }
   ],
   "source": [
    "from sklearn.datasets import load_iris\n",
    "from sklearn.linear_model import LogisticRegression\n",
    "X, y = load_iris(return_X_y=True)\n",
    "regressor = LogisticRegression()\n",
    "regressor = regressor.fit(X_train, y_train)"
   ]
  },
  {
   "cell_type": "code",
   "execution_count": 193,
   "metadata": {},
   "outputs": [
    {
     "data": {
      "text/plain": [
       "0.8100654967869501"
      ]
     },
     "execution_count": 193,
     "metadata": {},
     "output_type": "execute_result"
    }
   ],
   "source": [
    "y_predicted = regressor.predict(X_test)\n",
    "metrics.accuracy_score(y_test, y_predicted)"
   ]
  },
  {
   "cell_type": "code",
   "execution_count": 195,
   "metadata": {},
   "outputs": [
    {
     "data": {
      "text/plain": [
       "0.43581475791103025"
      ]
     },
     "execution_count": 195,
     "metadata": {},
     "output_type": "execute_result"
    }
   ],
   "source": [
    "# Calculate mean_squared_error\n",
    "rmse = sqrt(mean_squared_error(y_true=y_test,y_pred=y_predicted))\n",
    "rmse"
   ]
  },
  {
   "cell_type": "code",
   "execution_count": 196,
   "metadata": {},
   "outputs": [
    {
     "data": {
      "text/plain": [
       "36    340438\n",
       "60    149986\n",
       "Name: term, dtype: int64"
      ]
     },
     "execution_count": 196,
     "metadata": {},
     "output_type": "execute_result"
    }
   ],
   "source": [
    "tn, fp, fn, tp = metrics.confusion_matrix(y_test,y_predicted).ravel()\n",
    "print(\"tn = {}, fp = {},fn = {}, tp = {}\".format(tn, fp, fn, tp))\n",
    "tot = sum((tn, fp, fn, tp))\n",
    "print(\"tn = {:0.3f}, fp = {:0.3f}, fn = {:0.3f}, tp = {:0.3f}\".format(tn/tot, fp/tot, fn/tot, tp/tot))\n",
    "\n",
    "recal = tp/(tp+fn)\n",
    "precision = tp/(tp+fp)\n",
    "print(\"\\n\")\n",
    "print(\"recall = {recal:0.3f}, precision = {precision:0.3f}\".format(recal=recal,precision=precision)) "
   ]
  },
  {
   "cell_type": "markdown",
   "metadata": {},
   "source": [
    "# Decision tree"
   ]
  },
  {
   "cell_type": "code",
   "execution_count": 197,
   "metadata": {},
   "outputs": [
    {
     "data": {
      "text/plain": [
       "0.8500679683638162"
      ]
     },
     "execution_count": 197,
     "metadata": {},
     "output_type": "execute_result"
    }
   ],
   "source": [
    "from sklearn import tree\n",
    "\n",
    "features = ['member_id','funded_amnt_inv', 'term', 'int_rate', 'home_ownership', 'annual_inc','total_rec_int','tot_cur_bal']\n",
    "x = train2[features].copy()\n",
    "y = train2['target'].copy()\n",
    "\n",
    "x_train,x_test,y_train,y_test=train_test_split(x,y,test_size = 0.33)\n",
    "\n",
    "regressor1 = tree.DecisionTreeClassifier(criterion='entropy', max_depth=5)\n",
    "regressor1 = regressor1.fit(x_train, y_train)\n",
    "\n",
    "y_pred = regressor1.predict(x_test)\n",
    "\n",
    "metrics.accuracy_score(y_test, y_pred)"
   ]
  },
  {
   "cell_type": "code",
   "execution_count": 198,
   "metadata": {},
   "outputs": [
    {
     "name": "stdout",
     "output_type": "stream",
     "text": [
      "Best accuracy: 0.8508156203657934\n",
      "for: ['batch_enrolled', 'delinq_2yrs', 'tot_coll_amt', 'verification_status', 'mths_since_last_major_derog', 'revol_util']\n"
     ]
    }
   ],
   "source": [
    "import random\n",
    "\n",
    "best_score = 0\n",
    "for i in range(50):\n",
    "    try_features = random.sample(list(train2.columns),6)\n",
    "    x = train2[features].copy()\n",
    "    y = train2['target'].copy()\n",
    "\n",
    "    x_train,x_test,y_train,y_test=train_test_split(x,y,test_size = 0.33)\n",
    "\n",
    "    regressor1 = tree.DecisionTreeClassifier(criterion='entropy', max_depth=5)\n",
    "    regressor1 = regressor1.fit(x_train, y_train)\n",
    "\n",
    "    y_pred = regressor1.predict(x_test)\n",
    "\n",
    "    try_score = metrics.accuracy_score(y_test, y_pred)\n",
    "    if try_score > best_score:\n",
    "        best_score = try_score\n",
    "        best_features = try_features\n",
    "print(\"Best accuracy: {score}\\nfor: {features}\".format(score=best_score,features=best_features))"
   ]
  },
  {
   "cell_type": "code",
   "execution_count": 199,
   "metadata": {},
   "outputs": [
    {
     "data": {
      "text/plain": [
       "0.8484305486900643"
      ]
     },
     "execution_count": 199,
     "metadata": {},
     "output_type": "execute_result"
    }
   ],
   "source": [
    "y_pred = regressor1.predict(x_test)\n",
    "metrics.accuracy_score(y_test, y_pred)"
   ]
  },
  {
   "cell_type": "code",
   "execution_count": 200,
   "metadata": {},
   "outputs": [],
   "source": [
    "# x11=np.dot(y_pred, y_train)\n",
    "\n",
    "# x12=np.dot(y_pred, 1-y_train)\n",
    "\n",
    "# x21=np.dot(1-y_pred, y_train)\n",
    "\n",
    "# x22=np.dot(1-y_pred, 1-y_train)\n",
    "\n",
    "# print(\"{x11}\\t{x12}\\n{x21}\\t{x22}\".format(x11=x11,x12=x12,x21=x21,x22=x22))\n",
    "# # print(x11+x12+x21+x22)\n",
    "# # print(len(y_pred))"
   ]
  },
  {
   "cell_type": "markdown",
   "metadata": {},
   "source": [
    "recall is calculated as tp/(tp+fn), how good the model is in term of correctly predicting default over total actual default. (correctly predicting yes/total actuall yes)\n",
    "\n",
    "precision = tp/fp+tp: how many predicting \"yes\" is correct (correctly predicting yes/total predicting yes)\n",
    "\n",
    "\n",
    "\n",
    "where\n",
    "tp = true positive  (i.e. actual = default,     predict = default)\n",
    "fp = false positive (i.e. actual = not default, predict =  default)\n",
    "fn = false negative (i.e. actual = default,     predict = not default)\n",
    "tn = true negative  (i.e. actual = not default, predict = not default)\n",
    "\n",
    "recall = tp/"
   ]
  },
  {
   "cell_type": "code",
   "execution_count": 201,
   "metadata": {
    "scrolled": true
   },
   "outputs": [
    {
     "name": "stdout",
     "output_type": "stream",
     "text": [
      "tn = 126952, fp = 4351, fn = 20179, tp = 10358\n",
      "tn = 0.784, fp = 0.027, fn = 0.125, tp = 0.064\n",
      "\n",
      "\n",
      "recall = 0.339, precision = 0.704\n"
     ]
    }
   ],
   "source": [
    "tn, fp, fn, tp = metrics.confusion_matrix(y_test,y_pred).ravel()\n",
    "print(\"tn = {}, fp = {}, fn = {}, tp = {}\".format(tn, fp, fn, tp))\n",
    "tot = sum((tn, fp, fn, tp))\n",
    "print(\"tn = {:0.3f}, fp = {:0.3f}, fn = {:0.3f}, tp = {:0.3f}\".format(tn/tot, fp/tot, fn/tot, tp/tot))\n",
    "\n",
    "recal = tp/(tp+fn)\n",
    "precision = tp/(tp+fp)\n",
    "print(\"\\n\")\n",
    "print(\"recall = {recal:0.3f}, precision = {precision:0.3f}\".format(recal=recal,precision=precision))\n"
   ]
  },
  {
   "cell_type": "markdown",
   "metadata": {},
   "source": [
    "# taking log of a column"
   ]
  },
  {
   "cell_type": "code",
   "execution_count": 202,
   "metadata": {},
   "outputs": [
    {
     "data": {
      "text/plain": [
       "['member_id',\n",
       " 'funded_amnt_inv',\n",
       " 'term',\n",
       " 'int_rate',\n",
       " 'home_ownership',\n",
       " 'annual_inc',\n",
       " 'total_rec_int',\n",
       " 'tot_cur_bal']"
      ]
     },
     "execution_count": 202,
     "metadata": {},
     "output_type": "execute_result"
    }
   ],
   "source": [
    "features"
   ]
  },
  {
   "cell_type": "code",
   "execution_count": 203,
   "metadata": {
    "scrolled": true
   },
   "outputs": [
    {
     "name": "stderr",
     "output_type": "stream",
     "text": [
      "C:\\Users\\lcu1812\\OneDrive\\Python\\lib\\site-packages\\ipykernel_launcher.py:2: SettingWithCopyWarning: \n",
      "A value is trying to be set on a copy of a slice from a DataFrame.\n",
      "Try using .loc[row_indexer,col_indexer] = value instead\n",
      "\n",
      "See the caveats in the documentation: http://pandas.pydata.org/pandas-docs/stable/indexing.html#indexing-view-versus-copy\n",
      "  \n"
     ]
    }
   ],
   "source": [
    "# train2['annual_inc'].plot.hist()\n",
    "train2['log_annual_inc'] = train2['annual_inc'].apply(lambda x: np.log(x))\n",
    "# train2['annual_inc'].plot.hist(alpha=0.4)\n",
    "# train2['log_annual_inc'].plot.hist(alpha=0.4)\n",
    "# plt.show()\n",
    "train3 = train2['log_annual_inc']\n"
   ]
  },
  {
   "cell_type": "code",
   "execution_count": 204,
   "metadata": {},
   "outputs": [
    {
     "data": {
      "text/plain": [
       "Text(0.5, 0, 'log_annual_inc')"
      ]
     },
     "execution_count": 204,
     "metadata": {},
     "output_type": "execute_result"
    },
    {
     "data": {
      "image/png": "[encoded data removed]",
      "text/plain": [
       "<Figure size 432x288 with 1 Axes>"
      ]
     },
     "metadata": {
      "needs_background": "light"
     },
     "output_type": "display_data"
    }
   ],
   "source": [
    "# train2['annual_inc'].plot.hist(alpha=0.4)\n",
    "ax2 = train3.plot.hist(alpha=0.4)\n",
    "ax2.set_xlabel('log_annual_inc')\n",
    "\n"
   ]
  },
  {
   "cell_type": "code",
   "execution_count": 205,
   "metadata": {},
   "outputs": [],
   "source": [
    "def print_lots_of_data():\n",
    "    print(metrics.accuracy_score(y_test, y_pred))\n",
    "\n",
    "    tn, fp, fn, tp = metrics.confusion_matrix(y_test,y_pred).ravel()\n",
    "    print(\"tn = {}, fp = {}, fn = {}, tp = {}\".format(tn, fp, fn, tp))\n",
    "    tot = sum((tn, fp, fn, tp))\n",
    "    print(\"tn = {:0.3f}, fp = {:0.3f}, fn = {:0.3f}, tp = {:0.3f}\".format(tn/tot, fp/tot, fn/tot, tp/tot))\n",
    "\n",
    "    recal = tp/(tp+fn)\n",
    "    precision = tp/(tp+fp)\n",
    "    print(\"\\n\")\n",
    "    print(\"recall = {recal:0.3f}, precision = {precision:0.3f}\".format(recal=recal,precision=precision))"
   ]
  },
  {
   "cell_type": "code",
   "execution_count": 228,
   "metadata": {},
   "outputs": [
    {
     "name": "stdout",
     "output_type": "stream",
     "text": [
      "0.8574023727137914\n",
      "tn = 120174, fp = 11276, fn = 11802, tp = 18588\n",
      "tn = 0.743, fp = 0.070, fn = 0.073, tp = 0.115\n",
      "\n",
      "\n",
      "recall = 0.612, precision = 0.622\n"
     ]
    }
   ],
   "source": [
    "from sklearn import tree\n",
    "\n",
    "features = ['member_id','funded_amnt_inv', 'term', 'int_rate', 'home_ownership', 'log_annual_inc','total_rec_int','tot_cur_bal']\n",
    "x = train2[features].copy()\n",
    "y = train2['target'].copy()\n",
    "\n",
    "x_train,x_test,y_train,y_test=train_test_split(x,y,test_size = 0.33)\n",
    "\n",
    "regressor1 = tree.DecisionTreeClassifier(criterion='entropy')\n",
    "regressor1 = regressor1.fit(x_train, y_train)\n",
    "\n",
    "y_pred = regressor1.predict(x_test)\n",
    "\n",
    "print_lots_of_data()\n"
   ]
  },
  {
   "cell_type": "markdown",
   "metadata": {},
   "source": [
    "now without log"
   ]
  },
  {
   "cell_type": "code",
   "execution_count": 229,
   "metadata": {},
   "outputs": [
    {
     "name": "stdout",
     "output_type": "stream",
     "text": [
      "0.8584404349975284\n",
      "tn = 120034, fp = 11318, fn = 11592, tp = 18896\n",
      "tn = 0.742, fp = 0.070, fn = 0.072, tp = 0.117\n",
      "\n",
      "\n",
      "recall = 0.620, precision = 0.625\n"
     ]
    }
   ],
   "source": [
    "from sklearn import tree\n",
    "\n",
    "features1 = ['member_id','funded_amnt_inv', 'term', 'int_rate', 'home_ownership', 'annual_inc','total_rec_int','tot_cur_bal']\n",
    "x = train2[features1].copy()\n",
    "y = train2['target'].copy()\n",
    "\n",
    "x_train,x_test,y_train,y_test=train_test_split(x,y,test_size = 0.33)\n",
    "\n",
    "regressor1 = tree.DecisionTreeClassifier(criterion='entropy')\n",
    "regressor1 = regressor1.fit(x_train, y_train)\n",
    "\n",
    "y_pred = regressor1.predict(x_test)\n",
    "\n",
    "print_lots_of_data()"
   ]
  },
  {
   "cell_type": "code",
   "execution_count": 222,
   "metadata": {},
   "outputs": [
    {
     "data": {
      "text/plain": [
       "36    227996\n",
       "60    100588\n",
       "Name: term, dtype: int64"
      ]
     },
     "execution_count": 222,
     "metadata": {},
     "output_type": "execute_result"
    }
   ],
   "source": [
    "# X_train['term'].value_counts()"
   ]
  },
  {
   "cell_type": "code",
   "execution_count": 225,
   "metadata": {},
   "outputs": [
    {
     "data": {
      "text/plain": [
       "0.8140138408304498"
      ]
     },
     "execution_count": 225,
     "metadata": {},
     "output_type": "execute_result"
    }
   ],
   "source": [
    "from sklearn import tree\n",
    "\n",
    "features2 = ['funded_amnt_inv', 'term', 'int_rate', 'home_ownership', 'annual_inc','total_rec_int','tot_cur_bal']\n",
    "x = train2[features2].copy()\n",
    "y = train2['target'].copy()\n",
    "\n",
    "x_train,x_test,y_train,y_test=train_test_split(x,y,test_size = 0.33)\n",
    "\n",
    "regressor2 = tree.DecisionTreeClassifier(criterion='entropy', max_depth=5)\n",
    "regressor2 = regressor1.fit(x_train, y_train)\n",
    "\n",
    "y_pred1 = regressor2.predict(x_test)\n",
    "\n",
    "metrics.accuracy_score(y_test, y_pred1)"
   ]
  },
  {
   "cell_type": "code",
   "execution_count": 209,
   "metadata": {},
   "outputs": [
    {
     "name": "stderr",
     "output_type": "stream",
     "text": [
      "C:\\Users\\lcu1812\\OneDrive\\Python\\lib\\site-packages\\sklearn\\linear_model\\logistic.py:433: FutureWarning: Default solver will be changed to 'lbfgs' in 0.22. Specify a solver to silence this warning.\n",
      "  FutureWarning)\n"
     ]
    }
   ],
   "source": [
    "from sklearn.datasets import load_iris\n",
    "from sklearn.linear_model import LogisticRegression\n",
    "x, y = load_iris(return_X_y=True)\n",
    "regressor = LogisticRegression()\n",
    "regressor2 = regressor.fit(x_train, y_train)\n",
    "\n",
    "y_predicted = regressor2.predict(x_test)"
   ]
  },
  {
   "cell_type": "code",
   "execution_count": 210,
   "metadata": {},
   "outputs": [
    {
     "data": {
      "text/plain": [
       "0.8164359861591696"
      ]
     },
     "execution_count": 210,
     "metadata": {},
     "output_type": "execute_result"
    }
   ],
   "source": [
    "regressor2.score(x_test, y_test)"
   ]
  },
  {
   "cell_type": "code",
   "execution_count": 211,
   "metadata": {},
   "outputs": [
    {
     "data": {
      "text/plain": [
       "0.4284437114030622"
      ]
     },
     "execution_count": 211,
     "metadata": {},
     "output_type": "execute_result"
    }
   ],
   "source": [
    "rmse = sqrt(mean_squared_error(y_true=y_test,y_pred=y_predicted))\n",
    "rmse"
   ]
  },
  {
   "cell_type": "code",
   "execution_count": 212,
   "metadata": {},
   "outputs": [
    {
     "name": "stdout",
     "output_type": "stream",
     "text": [
      "tn = 130274, fp = 1062, fn = 28646, tp = 1858\n",
      "tn = 0.805, fp = 0.007, fn = 0.177, tp = 0.011\n",
      "\n",
      "\n",
      "recall = 0.061, precision = 0.636\n"
     ]
    }
   ],
   "source": [
    "tn, fp, fn, tp = metrics.confusion_matrix(y_test,y_predicted).ravel()\n",
    "print(\"tn = {}, fp = {}, fn = {}, tp = {}\".format(tn, fp, fn, tp))\n",
    "tot = sum((tn, fp, fn, tp))\n",
    "print(\"tn = {:0.3f}, fp = {:0.3f}, fn = {:0.3f}, tp = {:0.3f}\".format(tn/tot, fp/tot, fn/tot, tp/tot))\n",
    "\n",
    "recal = tp/(tp+fn)\n",
    "precision = tp/(tp+fp)\n",
    "print(\"\\n\")\n",
    "print(\"recall = {recal:0.3f}, precision = {precision:0.3f}\".format(recal=recal,precision=precision))"
   ]
  },
  {
   "cell_type": "code",
   "execution_count": 213,
   "metadata": {},
   "outputs": [],
   "source": [
    "# regressor1.score(X_test, y_test)"
   ]
  },
  {
   "cell_type": "code",
   "execution_count": 214,
   "metadata": {},
   "outputs": [],
   "source": [
    "# rmse = sqrt(mean_squared_error(y_true=y_test,y_pred=y_predicted1))\n",
    "# rmse "
   ]
  },
  {
   "cell_type": "code",
   "execution_count": 215,
   "metadata": {},
   "outputs": [],
   "source": [
    "# pip install pydotplus"
   ]
  },
  {
   "cell_type": "code",
   "execution_count": 216,
   "metadata": {},
   "outputs": [],
   "source": [
    "# conda install graphviz"
   ]
  },
  {
   "cell_type": "code",
   "execution_count": 217,
   "metadata": {},
   "outputs": [],
   "source": [
    "# conda install python-graphviz"
   ]
  },
  {
   "cell_type": "code",
   "execution_count": 230,
   "metadata": {},
   "outputs": [],
   "source": [
    "from sklearn.externals.six import StringIO  \n",
    "from IPython.display import Image  \n",
    "from sklearn.tree import export_graphviz\n",
    "import pydotplus"
   ]
  },
  {
   "cell_type": "code",
   "execution_count": 259,
   "metadata": {},
   "outputs": [],
   "source": [
    "xdata = list(range(2,12))\n",
    "ydata = {}\n",
    "\n",
    "criteria = \"gini\", \"entropy\"\n",
    "\n",
    "for criterion in criteria:\n",
    "    ydata[criterion] = []\n",
    "    for x in xdata:\n",
    "        \n",
    "        # Create Decision Tree classifer object\n",
    "        clf = tree.DecisionTreeClassifier(criterion=criterion, max_depth=x)\n",
    "\n",
    "        # Train Decision Tree Classifer\n",
    "        clf = clf.fit(x_train,y_train)\n",
    "\n",
    "        #Predict the response for test dataset\n",
    "        y_pred = clf.predict(x_test)\n",
    "\n",
    "        # Model Accuracy, how often is the classifier correct?\n",
    "        ydata[criterion].append(metrics.accuracy_score(y_test, y_pred))\n",
    "\n"
   ]
  },
  {
   "cell_type": "code",
   "execution_count": 220,
   "metadata": {},
   "outputs": [
    {
     "data": {
      "image/png": "[encoded data removed]",
      "text/plain": [
       "<Figure size 432x288 with 1 Axes>"
      ]
     },
     "metadata": {
      "needs_background": "light"
     },
     "output_type": "display_data"
    }
   ],
   "source": [
    "for criterion in criteria:\n",
    "    plt.plot(xdata, ydata[criterion], label=criterion)\n",
    "plt.legend()\n",
    "plt.show()"
   ]
  },
  {
   "cell_type": "code",
   "execution_count": 260,
   "metadata": {},
   "outputs": [
    {
     "name": "stdout",
     "output_type": "stream",
     "text": [
      "dot: graph is too large for cairo-renderer bitmaps. Scaling by 0.163409 to fit\n",
      "\n",
      "dot: graph is too large for cairo-renderer bitmaps. Scaling by 0.163409 to fit\n",
      "\n"
     ]
    },
    {
     "data": {
      "text/plain": [
       "True"
      ]
     },
     "execution_count": 260,
     "metadata": {},
     "output_type": "execute_result"
    }
   ],
   "source": [
    "dot_data = StringIO()\n",
    "export_graphviz(clf, out_file=dot_data,  \n",
    "                filled=True, rounded=True,\n",
    "                special_characters=True, feature_names = features1,  class_names = ['0','1'])\n",
    "graph = pydotplus.graph_from_dot_data(dot_data.getvalue())\n",
    "Image(graph.create_png())\n",
    "graph.write(\"graph.svg\", format=\"svg\")\n",
    "graph.write(\"graph.png\", format=\"png\")\n"
   ]
  },
  {
   "cell_type": "code",
   "execution_count": null,
   "metadata": {},
   "outputs": [],
   "source": [
    "full_df['term'] = full_df['term'].apply(lambda x : int(re.sub(\"\\D\", \"\", x)))\n",
    "full_df['emp_length'] = full_df['emp_length'].apply(get_emp_length)\n",
    "full_df['last_week_pay'] = full_df['last_week_pay'].apply(get_last_week_pay)\n",
    "full_df['desc'] = full_df['desc'].apply(clean_text)\n",
    "full_df['verification_status_joint'] = full_df['verification_status_joint'].apply(verification_status_joint)"
   ]
  },
  {
   "cell_type": "code",
   "execution_count": null,
   "metadata": {},
   "outputs": [],
   "source": [
    "cols_list = full_df.columns\n",
    "cols_obj = []\n",
    "obj_list = full_df.dtypes.values\n",
    "for col, obj in zip(cols_list, obj_list):\n",
    "    if obj == object:\n",
    "        cols_obj.append(col)\n",
    "        \n",
    "#full_df[cols_obj].count()"
   ]
  },
  {
   "cell_type": "code",
   "execution_count": null,
   "metadata": {},
   "outputs": [],
   "source": [
    "le = preprocessing.LabelEncoder()\n",
    "for col in cols_obj:\n",
    "    full_df[col] = le.fit_transform(full_df[col])"
   ]
  },
  {
   "cell_type": "code",
   "execution_count": null,
   "metadata": {},
   "outputs": [],
   "source": [
    "def fill_nulls(value):\n",
    "    cols_fill = ['emp_length', 'annual_inc','delinq_2yrs', 'inq_last_6mths', \n",
    "            'mths_since_last_delinq', 'open_acc', 'pub_rec', 'revol_util',\n",
    "            'total_acc', 'collections_12_mths_ex_med', 'acc_now_delinq',\n",
    "            'tot_coll_amt', 'tot_cur_bal', 'total_rev_hi_lim']\n",
    "    \n",
    "    if value == -9999:\n",
    "        for col in cols_fill:\n",
    "            full_df.loc[full_df[col].isnull(), col] = -9999\n",
    "    else : \n",
    "        for col in cols_fill:\n",
    "            full_df.loc[full_df[col].isnull(), col] = full_df[col].median()"
   ]
  },
  {
   "cell_type": "code",
   "execution_count": null,
   "metadata": {},
   "outputs": [],
   "source": [
    "fill_nulls(-9999)"
   ]
  },
  {
   "cell_type": "markdown",
   "metadata": {},
   "source": [
    "#### New features"
   ]
  },
  {
   "cell_type": "code",
   "execution_count": null,
   "metadata": {},
   "outputs": [],
   "source": [
    "value = -9999\n",
    "\n",
    "def helping_features(value):\n",
    "    full_df['Interest'] = full_df['funded_amnt']*full_df['int_rate']*full_df['term']/(100*12)\n",
    "    if value == -9999:\n",
    "        full_df['Monthly_income'] = full_df['annual_inc'].apply(lambda x : x/12 if x >=0 else -9999)\n",
    "        full_df['Monthly_debt_repay'] = full_df['Monthly_income'] * full_df['dti']/100\n",
    "        full_df['Monthly_debt_repay'] = full_df['Monthly_debt_repay'].apply(lambda x : x if x>0 else -9999) \n",
    "    else :\n",
    "        full_df['Monthly_income'] = full_df['annual_inc']/12\n",
    "        full_df['Monthly_debt_repay'] = full_df['Monthly_income'] * full_df['dti']/100\n",
    "    "
   ]
  },
  {
   "cell_type": "code",
   "execution_count": null,
   "metadata": {},
   "outputs": [],
   "source": [
    "helping_features(-9999)"
   ]
  },
  {
   "cell_type": "code",
   "execution_count": null,
   "metadata": {},
   "outputs": [],
   "source": [
    "full_df.head()"
   ]
  },
  {
   "cell_type": "code",
   "execution_count": null,
   "metadata": {},
   "outputs": [],
   "source": [
    "full_df['unpaid_perc'] = (full_df['Interest'] - full_df['total_rec_int'])/full_df['Interest']"
   ]
  },
  {
   "cell_type": "code",
   "execution_count": null,
   "metadata": {},
   "outputs": [],
   "source": [
    "full_df['last_to_term'] = full_df['last_week_pay']/(full_df['term']*52/12)"
   ]
  },
  {
   "cell_type": "code",
   "execution_count": null,
   "metadata": {},
   "outputs": [],
   "source": [
    "full_df['monthly_int_to_debt_repay'] = full_df['Interest']/full_df['Monthly_debt_repay']/12"
   ]
  },
  {
   "cell_type": "code",
   "execution_count": null,
   "metadata": {},
   "outputs": [],
   "source": [
    "full_df['iti'] = full_df['Interest']/full_df['Monthly_income']/12"
   ]
  },
  {
   "cell_type": "code",
   "execution_count": null,
   "metadata": {},
   "outputs": [],
   "source": [
    "full_df['dti_and_iti'] = full_df['iti'] + full_df['dti']"
   ]
  },
  {
   "cell_type": "code",
   "execution_count": null,
   "metadata": {},
   "outputs": [],
   "source": [
    "full_df['dtc'] = full_df['Monthly_debt_repay']/full_df['total_rev_hi_lim']/12"
   ]
  },
  {
   "cell_type": "code",
   "execution_count": null,
   "metadata": {},
   "outputs": [],
   "source": [
    "full_df['itc'] = full_df['Interest']/full_df['total_rev_hi_lim']/(12*12)"
   ]
  },
  {
   "cell_type": "code",
   "execution_count": null,
   "metadata": {},
   "outputs": [],
   "source": [
    "cols = []\n",
    "for col in full_df.columns:\n",
    "    if col not in ['Interest', 'total_rec_int','Monthly_income', 'Monthly_debt_repay','last_to_term',\n",
    "                   'dti_and_iti']:\n",
    "        cols.append(col)"
   ]
  },
  {
   "cell_type": "code",
   "execution_count": null,
   "metadata": {},
   "outputs": [],
   "source": [
    "train_new = full_df[:size_train]\n",
    "test_new = full_df[size_train:]\n",
    "\n",
    "train_new = train_new[cols]\n",
    "test_new = test_new[cols]"
   ]
  },
  {
   "cell_type": "code",
   "execution_count": null,
   "metadata": {},
   "outputs": [],
   "source": [
    "import xgboost as xgb\n",
    "param = {}\n",
    "param['objective'] = 'binary:logistic'\n",
    "param['eta'] = 0.1\n",
    "param['max_depth'] = 10\n",
    "param['silent'] = 0\n",
    "param['eval_metric'] = \"auc\"\n",
    "param['subsample'] = 1\n",
    "param['colsample_bytree'] = 1\n",
    "param['seed'] = 3\n",
    "num_rounds = 5000"
   ]
  },
  {
   "cell_type": "code",
   "execution_count": null,
   "metadata": {},
   "outputs": [],
   "source": [
    "kf = KFold(n_splits=2, shuffle=True, random_state=3)\n",
    "\n",
    "for train_index, test_index in kf.split(train_new):    \n",
    "    print(\"Split\")\n",
    "    model = train_xgb(train_new.iloc[train_index].values, target[train_index], train_new.iloc[test_index].values, target[test_index])"
   ]
  },
  {
   "cell_type": "code",
   "execution_count": null,
   "metadata": {},
   "outputs": [],
   "source": [
    "def train_xgb(X_train, y_train, X_val, y_val):\n",
    "    \n",
    "    dtrain = xgb.DMatrix(X_train, label=y_train, missing=-9999)\n",
    "    \n",
    "    dtest = xgb.DMatrix(X_val, label=y_val, missing=-9999)\n",
    "    \n",
    "    watchlist  = [(dtest,'test'), (dtrain,'train')]\n",
    "    bst = xgb.train(param, dtrain, num_rounds, watchlist, early_stopping_rounds=20)\n",
    "    \n",
    "    return bst\n",
    "    #print(get_log_loss(y_val, pred), get_log_loss(y_train, predtrain))"
   ]
  },
  {
   "cell_type": "code",
   "execution_count": null,
   "metadata": {},
   "outputs": [],
   "source": [
    "def ceate_feature_map(features):\n",
    "    outfile = open('xgb_new.fmap', 'w')\n",
    "    i = 0\n",
    "    for feat in features:\n",
    "        outfile.write('{0}\\t{1}\\tq\\n'.format(i, feat))\n",
    "        i = i + 1\n",
    "\n",
    "    outfile.close()\n",
    "\n",
    "def xgb_feature_importance(features, model):\n",
    "    ceate_feature_map(features)\n",
    "    \n",
    "    import operator\n",
    "    importance = model.get_fscore(fmap='xgb_new.fmap')\n",
    "    importance = sorted(importance.items(), key=operator.itemgetter(1))\n",
    "    \n",
    "    df = pd.DataFrame(importance, columns=['feature', 'fscore'])\n",
    "    df['fscore'] = df['fscore'] / df['fscore'].sum()\n",
    "    plt.figure()\n",
    "    df.plot(kind='barh', x='feature', y='fscore', legend=False, figsize=(6, 10))\n",
    "    plt.title('XGBoost Feature Importance')\n",
    "    plt.xlabel('relative importance')\n",
    "    plt.show()\n",
    "    \n",
    "    return df"
   ]
  },
  {
   "cell_type": "code",
   "execution_count": null,
   "metadata": {},
   "outputs": [],
   "source": [
    "featuredf = xgb_feature_importance(test_new.columns, model)"
   ]
  },
  {
   "cell_type": "code",
   "execution_count": null,
   "metadata": {},
   "outputs": [],
   "source": [
    "def predict_xgb(X_train, y_train, X_test):\n",
    "    dtrain = xgb.DMatrix(X_train, label=y_train, missing=-9999)\n",
    "    \n",
    "    dtest = xgb.DMatrix(X_test, missing=-9999)\n",
    "    \n",
    "    bst = xgb.train(param, dtrain, num_rounds, early_stopping_rounds = 20)\n",
    "    \n",
    "    pred = bst.predict(dtest)\n",
    "    \n",
    "    return pred"
   ]
  },
  {
   "cell_type": "code",
   "execution_count": null,
   "metadata": {},
   "outputs": [],
   "source": [
    "def train_and_predict(X_train, y_train, X_val, y_val, X_test):\n",
    "    dtrain = xgb.DMatrix(X_train, label=y_train, missing=-9999)\n",
    "    dtest = xgb.DMatrix(X_val, label=y_val, missing=-9999)\n",
    "    watchlist  = [(dtest,'test'), (dtrain,'train')]\n",
    "    bst = xgb.train(param, dtrain, num_rounds, watchlist, early_stopping_rounds=20)\n",
    "    \n",
    "    bst.save_model('mymodel')\n",
    "    bst = xgb.Booster(param)\n",
    "    bst.load_model('mymodel')\n",
    "    \n",
    "    #xgboost issue : https://github.com/dmlc/xgboost/issues/1238\n",
    "    \n",
    "    dpredict = xgb.DMatrix(X_test, missing=-9999)\n",
    "    pred = bst.predict(dpredict)\n",
    "    return pred"
   ]
  },
  {
   "cell_type": "code",
   "execution_count": null,
   "metadata": {},
   "outputs": [],
   "source": [
    "import xgboost as xgb\n",
    "param = {}\n",
    "param['objective'] = 'binary:logistic'\n",
    "param['eta'] = 0.03\n",
    "param['max_depth'] = 10\n",
    "param['silent'] = 0\n",
    "param['eval_metric'] = \"auc\"\n",
    "param['subsample'] = 1\n",
    "param['colsample_bytree'] = 1\n",
    "param['seed'] = 3\n",
    "num_rounds = 5000"
   ]
  },
  {
   "cell_type": "code",
   "execution_count": null,
   "metadata": {},
   "outputs": [],
   "source": [
    "### Final predict\n",
    "kf = KFold(n_splits=5, shuffle=True, random_state=3)\n",
    "pred_arr = []\n",
    "\n",
    "for train_index, test_index in kf.split(train_new):    \n",
    "    print(\"Split\")\n",
    "    pred_temp = train_and_predict(train_new.iloc[train_index].values, target[train_index], train_new.iloc[test_index].values, target[test_index], test_new)\n",
    "    print(pred_temp[1:15])\n",
    "    pred_arr.append(pred_temp)"
   ]
  },
  {
   "cell_type": "code",
   "execution_count": null,
   "metadata": {},
   "outputs": [],
   "source": [
    "pred1 = pred_arr[0]\n",
    "pred2 = pred_arr[1]\n",
    "pred3 = pred_arr[2]\n",
    "pred4 = pred_arr[3]\n",
    "pred5 = pred_arr[4]"
   ]
  },
  {
   "cell_type": "code",
   "execution_count": null,
   "metadata": {},
   "outputs": [],
   "source": [
    "pred_avg = (pred1+pred2+pred3+pred4+pred5)/5"
   ]
  },
  {
   "cell_type": "code",
   "execution_count": null,
   "metadata": {},
   "outputs": [],
   "source": [
    "pred_avg = (pred1+pred2+pred3+pred4+pred5)/5\n",
    "print(pred_avg[1:5])"
   ]
  },
  {
   "cell_type": "code",
   "execution_count": null,
   "metadata": {},
   "outputs": [],
   "source": [
    "test = pd.read_csv('test_indessa.csv')\n",
    "member_id = test.member_id"
   ]
  },
  {
   "cell_type": "code",
   "execution_count": null,
   "metadata": {},
   "outputs": [],
   "source": [
    "ans = pd.DataFrame({\n",
    "    'member_id' : member_id,\n",
    "    'loan_status' : pred_avg\n",
    "})\n",
    "ans = ans[['member_id','loan_status']]"
   ]
  },
  {
   "cell_type": "code",
   "execution_count": null,
   "metadata": {},
   "outputs": [],
   "source": [
    "ans.to_csv('answer_f_5000_rounds_eta_03_1.csv', index = False) ### 0.97892 on lb and (0.97927 after ensemble with prev models)"
   ]
  },
  {
   "cell_type": "code",
   "execution_count": null,
   "metadata": {},
   "outputs": [],
   "source": [
    "df_full.head()"
   ]
  },
  {
   "cell_type": "code",
   "execution_count": null,
   "metadata": {},
   "outputs": [],
   "source": []
  }
 ],
 "metadata": {
  "kernelspec": {
   "display_name": "Python 3",
   "language": "python",
   "name": "python3"
  },
  "language_info": {
   "codemirror_mode": {
    "name": "ipython",
    "version": 3
   },
   "file_extension": ".py",
   "mimetype": "text/x-python",
   "name": "python",
   "nbconvert_exporter": "python",
   "pygments_lexer": "ipython3",
   "version": "3.7.3"
  }
 },
 "nbformat": 4,
 "nbformat_minor": 2
}
